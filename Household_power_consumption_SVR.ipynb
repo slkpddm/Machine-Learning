{
 "cells": [
  {
   "cell_type": "markdown",
   "id": "69ed1e5e",
   "metadata": {},
   "source": [
    "## Support Vector Regression model to predict the power consumption of a household"
   ]
  },
  {
   "cell_type": "markdown",
   "id": "0cc08e96",
   "metadata": {},
   "source": [
    "### Data Attributes"
   ]
  },
  {
   "cell_type": "markdown",
   "id": "a57212cc",
   "metadata": {},
   "source": [
    "1.date: Date in format dd/mm/yyyy\n",
    "\n",
    "2.time: time in format hh:mm:ss\n",
    "\n",
    "3.global_active_power: household global minute-averaged active power (in kilowatt)\n",
    "\n",
    "4.global_reactive_power: household global minute-averaged reactive power (in kilowatt)\n",
    "\n",
    "5.voltage: minute-averaged voltage (in volt)\n",
    "\n",
    "6.global_intensity: household global minute-averaged current intensity (in ampere)\n",
    "\n",
    "7.sub_metering_1: energy sub-metering No. 1 (in watt-hour of active energy). It corresponds to the kitchen, containing mainly a dishwasher, an oven and a microwave (hot plates are not electric but gas powered).\n",
    "\n",
    "8.sub_metering_2: energy sub-metering No. 2 (in watt-hour of active energy). It corresponds to the laundry room, containing a washing-machine, a tumble-drier, a refrigerator and a light.\n",
    "\n",
    "9.sub_metering_3: energy sub-metering No. 3 (in watt-hour of active energy). It corresponds to an electric water-heater and an air-conditioner."
   ]
  },
  {
   "cell_type": "markdown",
   "id": "1d035fff",
   "metadata": {},
   "source": [
    "### Data Injestion"
   ]
  },
  {
   "cell_type": "code",
   "execution_count": 116,
   "id": "14c1b56a",
   "metadata": {},
   "outputs": [],
   "source": [
    "import numpy as np\n",
    "import pandas as pd\n",
    "import seaborn as sns\n",
    "import matplotlib.pyplot as plt\n",
    "%matplotlib inline\n",
    "from sklearn.svm import SVR\n",
    "from sklearn.metrics import mean_squared_error\n",
    "from sklearn.metrics import mean_absolute_error\n",
    "from sklearn.metrics import r2_score\n",
    "import warnings\n",
    "warnings.filterwarnings(\"ignore\")"
   ]
  },
  {
   "cell_type": "code",
   "execution_count": 235,
   "id": "f91f6dcb",
   "metadata": {},
   "outputs": [],
   "source": [
    "# picking 50000 records from the total records of the dataset\n",
    "df=pd.read_csv(\"household_power_consumption/household_power_consumption.txt\",delimiter=\";\").sample(50000).reset_index()"
   ]
  },
  {
   "cell_type": "markdown",
   "id": "70c1cfc7",
   "metadata": {},
   "source": [
    "## EDA & Preprocessing"
   ]
  },
  {
   "cell_type": "code",
   "execution_count": 236,
   "id": "ac0c24f7",
   "metadata": {},
   "outputs": [
    {
     "data": {
      "text/html": [
       "<div>\n",
       "<style scoped>\n",
       "    .dataframe tbody tr th:only-of-type {\n",
       "        vertical-align: middle;\n",
       "    }\n",
       "\n",
       "    .dataframe tbody tr th {\n",
       "        vertical-align: top;\n",
       "    }\n",
       "\n",
       "    .dataframe thead th {\n",
       "        text-align: right;\n",
       "    }\n",
       "</style>\n",
       "<table border=\"1\" class=\"dataframe\">\n",
       "  <thead>\n",
       "    <tr style=\"text-align: right;\">\n",
       "      <th></th>\n",
       "      <th>index</th>\n",
       "      <th>Date</th>\n",
       "      <th>Time</th>\n",
       "      <th>Global_active_power</th>\n",
       "      <th>Global_reactive_power</th>\n",
       "      <th>Voltage</th>\n",
       "      <th>Global_intensity</th>\n",
       "      <th>Sub_metering_1</th>\n",
       "      <th>Sub_metering_2</th>\n",
       "      <th>Sub_metering_3</th>\n",
       "    </tr>\n",
       "  </thead>\n",
       "  <tbody>\n",
       "    <tr>\n",
       "      <th>0</th>\n",
       "      <td>1161765</td>\n",
       "      <td>2/3/2009</td>\n",
       "      <td>12:09:00</td>\n",
       "      <td>0.496</td>\n",
       "      <td>0.054</td>\n",
       "      <td>243.720</td>\n",
       "      <td>2.600</td>\n",
       "      <td>0.000</td>\n",
       "      <td>0.000</td>\n",
       "      <td>0.0</td>\n",
       "    </tr>\n",
       "    <tr>\n",
       "      <th>1</th>\n",
       "      <td>478869</td>\n",
       "      <td>14/11/2007</td>\n",
       "      <td>06:33:00</td>\n",
       "      <td>0.312</td>\n",
       "      <td>0.080</td>\n",
       "      <td>244.560</td>\n",
       "      <td>1.200</td>\n",
       "      <td>0.000</td>\n",
       "      <td>0.000</td>\n",
       "      <td>0.0</td>\n",
       "    </tr>\n",
       "    <tr>\n",
       "      <th>2</th>\n",
       "      <td>1289885</td>\n",
       "      <td>30/5/2009</td>\n",
       "      <td>11:29:00</td>\n",
       "      <td>0.584</td>\n",
       "      <td>0.198</td>\n",
       "      <td>239.970</td>\n",
       "      <td>2.600</td>\n",
       "      <td>0.000</td>\n",
       "      <td>0.000</td>\n",
       "      <td>1.0</td>\n",
       "    </tr>\n",
       "    <tr>\n",
       "      <th>3</th>\n",
       "      <td>1977413</td>\n",
       "      <td>19/9/2010</td>\n",
       "      <td>22:17:00</td>\n",
       "      <td>0.826</td>\n",
       "      <td>0.000</td>\n",
       "      <td>245.040</td>\n",
       "      <td>3.400</td>\n",
       "      <td>0.000</td>\n",
       "      <td>0.000</td>\n",
       "      <td>1.0</td>\n",
       "    </tr>\n",
       "    <tr>\n",
       "      <th>4</th>\n",
       "      <td>225824</td>\n",
       "      <td>22/5/2007</td>\n",
       "      <td>13:08:00</td>\n",
       "      <td>0.318</td>\n",
       "      <td>0.076</td>\n",
       "      <td>237.040</td>\n",
       "      <td>1.400</td>\n",
       "      <td>0.000</td>\n",
       "      <td>0.000</td>\n",
       "      <td>0.0</td>\n",
       "    </tr>\n",
       "  </tbody>\n",
       "</table>\n",
       "</div>"
      ],
      "text/plain": [
       "     index        Date      Time Global_active_power Global_reactive_power  \\\n",
       "0  1161765    2/3/2009  12:09:00               0.496                 0.054   \n",
       "1   478869  14/11/2007  06:33:00               0.312                 0.080   \n",
       "2  1289885   30/5/2009  11:29:00               0.584                 0.198   \n",
       "3  1977413   19/9/2010  22:17:00               0.826                 0.000   \n",
       "4   225824   22/5/2007  13:08:00               0.318                 0.076   \n",
       "\n",
       "   Voltage Global_intensity Sub_metering_1 Sub_metering_2  Sub_metering_3  \n",
       "0  243.720            2.600          0.000          0.000             0.0  \n",
       "1  244.560            1.200          0.000          0.000             0.0  \n",
       "2  239.970            2.600          0.000          0.000             1.0  \n",
       "3  245.040            3.400          0.000          0.000             1.0  \n",
       "4  237.040            1.400          0.000          0.000             0.0  "
      ]
     },
     "execution_count": 236,
     "metadata": {},
     "output_type": "execute_result"
    }
   ],
   "source": [
    "df.head()"
   ]
  },
  {
   "cell_type": "code",
   "execution_count": 237,
   "id": "c0e795f6",
   "metadata": {},
   "outputs": [],
   "source": [
    "# Removing the index column\n",
    "df.drop('index', axis=True, inplace=True)"
   ]
  },
  {
   "cell_type": "code",
   "execution_count": 238,
   "id": "b8958869",
   "metadata": {},
   "outputs": [
    {
     "data": {
      "text/html": [
       "<div>\n",
       "<style scoped>\n",
       "    .dataframe tbody tr th:only-of-type {\n",
       "        vertical-align: middle;\n",
       "    }\n",
       "\n",
       "    .dataframe tbody tr th {\n",
       "        vertical-align: top;\n",
       "    }\n",
       "\n",
       "    .dataframe thead th {\n",
       "        text-align: right;\n",
       "    }\n",
       "</style>\n",
       "<table border=\"1\" class=\"dataframe\">\n",
       "  <thead>\n",
       "    <tr style=\"text-align: right;\">\n",
       "      <th></th>\n",
       "      <th>Date</th>\n",
       "      <th>Time</th>\n",
       "      <th>Global_active_power</th>\n",
       "      <th>Global_reactive_power</th>\n",
       "      <th>Voltage</th>\n",
       "      <th>Global_intensity</th>\n",
       "      <th>Sub_metering_1</th>\n",
       "      <th>Sub_metering_2</th>\n",
       "      <th>Sub_metering_3</th>\n",
       "    </tr>\n",
       "  </thead>\n",
       "  <tbody>\n",
       "    <tr>\n",
       "      <th>0</th>\n",
       "      <td>2/3/2009</td>\n",
       "      <td>12:09:00</td>\n",
       "      <td>0.496</td>\n",
       "      <td>0.054</td>\n",
       "      <td>243.720</td>\n",
       "      <td>2.600</td>\n",
       "      <td>0.000</td>\n",
       "      <td>0.000</td>\n",
       "      <td>0.0</td>\n",
       "    </tr>\n",
       "    <tr>\n",
       "      <th>1</th>\n",
       "      <td>14/11/2007</td>\n",
       "      <td>06:33:00</td>\n",
       "      <td>0.312</td>\n",
       "      <td>0.080</td>\n",
       "      <td>244.560</td>\n",
       "      <td>1.200</td>\n",
       "      <td>0.000</td>\n",
       "      <td>0.000</td>\n",
       "      <td>0.0</td>\n",
       "    </tr>\n",
       "    <tr>\n",
       "      <th>2</th>\n",
       "      <td>30/5/2009</td>\n",
       "      <td>11:29:00</td>\n",
       "      <td>0.584</td>\n",
       "      <td>0.198</td>\n",
       "      <td>239.970</td>\n",
       "      <td>2.600</td>\n",
       "      <td>0.000</td>\n",
       "      <td>0.000</td>\n",
       "      <td>1.0</td>\n",
       "    </tr>\n",
       "    <tr>\n",
       "      <th>3</th>\n",
       "      <td>19/9/2010</td>\n",
       "      <td>22:17:00</td>\n",
       "      <td>0.826</td>\n",
       "      <td>0.000</td>\n",
       "      <td>245.040</td>\n",
       "      <td>3.400</td>\n",
       "      <td>0.000</td>\n",
       "      <td>0.000</td>\n",
       "      <td>1.0</td>\n",
       "    </tr>\n",
       "    <tr>\n",
       "      <th>4</th>\n",
       "      <td>22/5/2007</td>\n",
       "      <td>13:08:00</td>\n",
       "      <td>0.318</td>\n",
       "      <td>0.076</td>\n",
       "      <td>237.040</td>\n",
       "      <td>1.400</td>\n",
       "      <td>0.000</td>\n",
       "      <td>0.000</td>\n",
       "      <td>0.0</td>\n",
       "    </tr>\n",
       "  </tbody>\n",
       "</table>\n",
       "</div>"
      ],
      "text/plain": [
       "         Date      Time Global_active_power Global_reactive_power  Voltage  \\\n",
       "0    2/3/2009  12:09:00               0.496                 0.054  243.720   \n",
       "1  14/11/2007  06:33:00               0.312                 0.080  244.560   \n",
       "2   30/5/2009  11:29:00               0.584                 0.198  239.970   \n",
       "3   19/9/2010  22:17:00               0.826                 0.000  245.040   \n",
       "4   22/5/2007  13:08:00               0.318                 0.076  237.040   \n",
       "\n",
       "  Global_intensity Sub_metering_1 Sub_metering_2  Sub_metering_3  \n",
       "0            2.600          0.000          0.000             0.0  \n",
       "1            1.200          0.000          0.000             0.0  \n",
       "2            2.600          0.000          0.000             1.0  \n",
       "3            3.400          0.000          0.000             1.0  \n",
       "4            1.400          0.000          0.000             0.0  "
      ]
     },
     "execution_count": 238,
     "metadata": {},
     "output_type": "execute_result"
    }
   ],
   "source": [
    "# Top 5 records from the dataset\n",
    "df.head()"
   ]
  },
  {
   "cell_type": "code",
   "execution_count": 239,
   "id": "2177daee",
   "metadata": {},
   "outputs": [
    {
     "data": {
      "text/html": [
       "<div>\n",
       "<style scoped>\n",
       "    .dataframe tbody tr th:only-of-type {\n",
       "        vertical-align: middle;\n",
       "    }\n",
       "\n",
       "    .dataframe tbody tr th {\n",
       "        vertical-align: top;\n",
       "    }\n",
       "\n",
       "    .dataframe thead th {\n",
       "        text-align: right;\n",
       "    }\n",
       "</style>\n",
       "<table border=\"1\" class=\"dataframe\">\n",
       "  <thead>\n",
       "    <tr style=\"text-align: right;\">\n",
       "      <th></th>\n",
       "      <th>Date</th>\n",
       "      <th>Time</th>\n",
       "      <th>Global_active_power</th>\n",
       "      <th>Global_reactive_power</th>\n",
       "      <th>Voltage</th>\n",
       "      <th>Global_intensity</th>\n",
       "      <th>Sub_metering_1</th>\n",
       "      <th>Sub_metering_2</th>\n",
       "      <th>Sub_metering_3</th>\n",
       "    </tr>\n",
       "  </thead>\n",
       "  <tbody>\n",
       "    <tr>\n",
       "      <th>49995</th>\n",
       "      <td>5/6/2010</td>\n",
       "      <td>07:54:00</td>\n",
       "      <td>1.554</td>\n",
       "      <td>0.216</td>\n",
       "      <td>241.520</td>\n",
       "      <td>6.600</td>\n",
       "      <td>0.000</td>\n",
       "      <td>2.000</td>\n",
       "      <td>19.0</td>\n",
       "    </tr>\n",
       "    <tr>\n",
       "      <th>49996</th>\n",
       "      <td>13/11/2009</td>\n",
       "      <td>18:24:00</td>\n",
       "      <td>0.960</td>\n",
       "      <td>0.000</td>\n",
       "      <td>241.320</td>\n",
       "      <td>4.000</td>\n",
       "      <td>0.000</td>\n",
       "      <td>0.000</td>\n",
       "      <td>1.0</td>\n",
       "    </tr>\n",
       "    <tr>\n",
       "      <th>49997</th>\n",
       "      <td>1/9/2010</td>\n",
       "      <td>04:24:00</td>\n",
       "      <td>0.350</td>\n",
       "      <td>0.234</td>\n",
       "      <td>243.610</td>\n",
       "      <td>1.600</td>\n",
       "      <td>0.000</td>\n",
       "      <td>1.000</td>\n",
       "      <td>1.0</td>\n",
       "    </tr>\n",
       "    <tr>\n",
       "      <th>49998</th>\n",
       "      <td>22/4/2009</td>\n",
       "      <td>18:26:00</td>\n",
       "      <td>0.996</td>\n",
       "      <td>0.118</td>\n",
       "      <td>241.400</td>\n",
       "      <td>4.200</td>\n",
       "      <td>0.000</td>\n",
       "      <td>0.000</td>\n",
       "      <td>12.0</td>\n",
       "    </tr>\n",
       "    <tr>\n",
       "      <th>49999</th>\n",
       "      <td>11/9/2007</td>\n",
       "      <td>12:49:00</td>\n",
       "      <td>0.106</td>\n",
       "      <td>0.000</td>\n",
       "      <td>238.920</td>\n",
       "      <td>0.400</td>\n",
       "      <td>0.000</td>\n",
       "      <td>0.000</td>\n",
       "      <td>0.0</td>\n",
       "    </tr>\n",
       "  </tbody>\n",
       "</table>\n",
       "</div>"
      ],
      "text/plain": [
       "             Date      Time Global_active_power Global_reactive_power  \\\n",
       "49995    5/6/2010  07:54:00               1.554                 0.216   \n",
       "49996  13/11/2009  18:24:00               0.960                 0.000   \n",
       "49997    1/9/2010  04:24:00               0.350                 0.234   \n",
       "49998   22/4/2009  18:26:00               0.996                 0.118   \n",
       "49999   11/9/2007  12:49:00               0.106                 0.000   \n",
       "\n",
       "       Voltage Global_intensity Sub_metering_1 Sub_metering_2  Sub_metering_3  \n",
       "49995  241.520            6.600          0.000          2.000            19.0  \n",
       "49996  241.320            4.000          0.000          0.000             1.0  \n",
       "49997  243.610            1.600          0.000          1.000             1.0  \n",
       "49998  241.400            4.200          0.000          0.000            12.0  \n",
       "49999  238.920            0.400          0.000          0.000             0.0  "
      ]
     },
     "execution_count": 239,
     "metadata": {},
     "output_type": "execute_result"
    }
   ],
   "source": [
    "# Bottom 5 records from the dataset\n",
    "df.tail()"
   ]
  },
  {
   "cell_type": "code",
   "execution_count": 240,
   "id": "e67db8a8",
   "metadata": {},
   "outputs": [
    {
     "name": "stdout",
     "output_type": "stream",
     "text": [
      "<class 'pandas.core.frame.DataFrame'>\n",
      "RangeIndex: 50000 entries, 0 to 49999\n",
      "Data columns (total 9 columns):\n",
      " #   Column                 Non-Null Count  Dtype  \n",
      "---  ------                 --------------  -----  \n",
      " 0   Date                   50000 non-null  object \n",
      " 1   Time                   50000 non-null  object \n",
      " 2   Global_active_power    50000 non-null  object \n",
      " 3   Global_reactive_power  50000 non-null  object \n",
      " 4   Voltage                50000 non-null  object \n",
      " 5   Global_intensity       50000 non-null  object \n",
      " 6   Sub_metering_1         50000 non-null  object \n",
      " 7   Sub_metering_2         50000 non-null  object \n",
      " 8   Sub_metering_3         49388 non-null  float64\n",
      "dtypes: float64(1), object(8)\n",
      "memory usage: 3.4+ MB\n"
     ]
    }
   ],
   "source": [
    "# Summary of the dataset\n",
    "df.info()"
   ]
  },
  {
   "cell_type": "markdown",
   "id": "1233d331",
   "metadata": {},
   "source": [
    "### Observation "
   ]
  },
  {
   "cell_type": "markdown",
   "id": "b89d0287",
   "metadata": {},
   "source": [
    "We could see some null values in  Sub_metering_3 and remaining columns are having date type as object instead int/float"
   ]
  },
  {
   "cell_type": "code",
   "execution_count": 241,
   "id": "29e4365f",
   "metadata": {},
   "outputs": [
    {
     "data": {
      "text/plain": [
       "Date                       0\n",
       "Time                       0\n",
       "Global_active_power        0\n",
       "Global_reactive_power      0\n",
       "Voltage                    0\n",
       "Global_intensity           0\n",
       "Sub_metering_1             0\n",
       "Sub_metering_2             0\n",
       "Sub_metering_3           612\n",
       "dtype: int64"
      ]
     },
     "execution_count": 241,
     "metadata": {},
     "output_type": "execute_result"
    }
   ],
   "source": [
    "# Checking null / missing values\n",
    "df.isnull().sum()"
   ]
  },
  {
   "cell_type": "code",
   "execution_count": 242,
   "id": "63fd139b",
   "metadata": {},
   "outputs": [
    {
     "data": {
      "text/html": [
       "<div>\n",
       "<style scoped>\n",
       "    .dataframe tbody tr th:only-of-type {\n",
       "        vertical-align: middle;\n",
       "    }\n",
       "\n",
       "    .dataframe tbody tr th {\n",
       "        vertical-align: top;\n",
       "    }\n",
       "\n",
       "    .dataframe thead th {\n",
       "        text-align: right;\n",
       "    }\n",
       "</style>\n",
       "<table border=\"1\" class=\"dataframe\">\n",
       "  <thead>\n",
       "    <tr style=\"text-align: right;\">\n",
       "      <th></th>\n",
       "      <th>Date</th>\n",
       "      <th>Time</th>\n",
       "      <th>Global_active_power</th>\n",
       "      <th>Global_reactive_power</th>\n",
       "      <th>Voltage</th>\n",
       "      <th>Global_intensity</th>\n",
       "      <th>Sub_metering_1</th>\n",
       "      <th>Sub_metering_2</th>\n",
       "      <th>Sub_metering_3</th>\n",
       "    </tr>\n",
       "  </thead>\n",
       "  <tbody>\n",
       "    <tr>\n",
       "      <th>21</th>\n",
       "      <td>20/8/2010</td>\n",
       "      <td>06:09:00</td>\n",
       "      <td>?</td>\n",
       "      <td>?</td>\n",
       "      <td>?</td>\n",
       "      <td>?</td>\n",
       "      <td>?</td>\n",
       "      <td>?</td>\n",
       "      <td>NaN</td>\n",
       "    </tr>\n",
       "    <tr>\n",
       "      <th>277</th>\n",
       "      <td>27/9/2010</td>\n",
       "      <td>20:16:00</td>\n",
       "      <td>?</td>\n",
       "      <td>?</td>\n",
       "      <td>?</td>\n",
       "      <td>?</td>\n",
       "      <td>?</td>\n",
       "      <td>?</td>\n",
       "      <td>NaN</td>\n",
       "    </tr>\n",
       "    <tr>\n",
       "      <th>388</th>\n",
       "      <td>13/8/2009</td>\n",
       "      <td>12:59:00</td>\n",
       "      <td>?</td>\n",
       "      <td>?</td>\n",
       "      <td>?</td>\n",
       "      <td>?</td>\n",
       "      <td>?</td>\n",
       "      <td>?</td>\n",
       "      <td>NaN</td>\n",
       "    </tr>\n",
       "    <tr>\n",
       "      <th>445</th>\n",
       "      <td>20/8/2010</td>\n",
       "      <td>08:51:00</td>\n",
       "      <td>?</td>\n",
       "      <td>?</td>\n",
       "      <td>?</td>\n",
       "      <td>?</td>\n",
       "      <td>?</td>\n",
       "      <td>?</td>\n",
       "      <td>NaN</td>\n",
       "    </tr>\n",
       "    <tr>\n",
       "      <th>452</th>\n",
       "      <td>14/1/2010</td>\n",
       "      <td>11:51:00</td>\n",
       "      <td>?</td>\n",
       "      <td>?</td>\n",
       "      <td>?</td>\n",
       "      <td>?</td>\n",
       "      <td>?</td>\n",
       "      <td>?</td>\n",
       "      <td>NaN</td>\n",
       "    </tr>\n",
       "    <tr>\n",
       "      <th>...</th>\n",
       "      <td>...</td>\n",
       "      <td>...</td>\n",
       "      <td>...</td>\n",
       "      <td>...</td>\n",
       "      <td>...</td>\n",
       "      <td>...</td>\n",
       "      <td>...</td>\n",
       "      <td>...</td>\n",
       "      <td>...</td>\n",
       "    </tr>\n",
       "    <tr>\n",
       "      <th>49568</th>\n",
       "      <td>12/1/2010</td>\n",
       "      <td>17:18:00</td>\n",
       "      <td>?</td>\n",
       "      <td>?</td>\n",
       "      <td>?</td>\n",
       "      <td>?</td>\n",
       "      <td>?</td>\n",
       "      <td>?</td>\n",
       "      <td>NaN</td>\n",
       "    </tr>\n",
       "    <tr>\n",
       "      <th>49742</th>\n",
       "      <td>25/9/2010</td>\n",
       "      <td>20:28:00</td>\n",
       "      <td>?</td>\n",
       "      <td>?</td>\n",
       "      <td>?</td>\n",
       "      <td>?</td>\n",
       "      <td>?</td>\n",
       "      <td>?</td>\n",
       "      <td>NaN</td>\n",
       "    </tr>\n",
       "    <tr>\n",
       "      <th>49769</th>\n",
       "      <td>14/6/2009</td>\n",
       "      <td>01:51:00</td>\n",
       "      <td>?</td>\n",
       "      <td>?</td>\n",
       "      <td>?</td>\n",
       "      <td>?</td>\n",
       "      <td>?</td>\n",
       "      <td>?</td>\n",
       "      <td>NaN</td>\n",
       "    </tr>\n",
       "    <tr>\n",
       "      <th>49772</th>\n",
       "      <td>14/6/2009</td>\n",
       "      <td>22:08:00</td>\n",
       "      <td>?</td>\n",
       "      <td>?</td>\n",
       "      <td>?</td>\n",
       "      <td>?</td>\n",
       "      <td>?</td>\n",
       "      <td>?</td>\n",
       "      <td>NaN</td>\n",
       "    </tr>\n",
       "    <tr>\n",
       "      <th>49796</th>\n",
       "      <td>18/8/2010</td>\n",
       "      <td>16:40:00</td>\n",
       "      <td>?</td>\n",
       "      <td>?</td>\n",
       "      <td>?</td>\n",
       "      <td>?</td>\n",
       "      <td>?</td>\n",
       "      <td>?</td>\n",
       "      <td>NaN</td>\n",
       "    </tr>\n",
       "  </tbody>\n",
       "</table>\n",
       "<p>612 rows × 9 columns</p>\n",
       "</div>"
      ],
      "text/plain": [
       "            Date      Time Global_active_power Global_reactive_power Voltage  \\\n",
       "21     20/8/2010  06:09:00                   ?                     ?       ?   \n",
       "277    27/9/2010  20:16:00                   ?                     ?       ?   \n",
       "388    13/8/2009  12:59:00                   ?                     ?       ?   \n",
       "445    20/8/2010  08:51:00                   ?                     ?       ?   \n",
       "452    14/1/2010  11:51:00                   ?                     ?       ?   \n",
       "...          ...       ...                 ...                   ...     ...   \n",
       "49568  12/1/2010  17:18:00                   ?                     ?       ?   \n",
       "49742  25/9/2010  20:28:00                   ?                     ?       ?   \n",
       "49769  14/6/2009  01:51:00                   ?                     ?       ?   \n",
       "49772  14/6/2009  22:08:00                   ?                     ?       ?   \n",
       "49796  18/8/2010  16:40:00                   ?                     ?       ?   \n",
       "\n",
       "      Global_intensity Sub_metering_1 Sub_metering_2  Sub_metering_3  \n",
       "21                   ?              ?              ?             NaN  \n",
       "277                  ?              ?              ?             NaN  \n",
       "388                  ?              ?              ?             NaN  \n",
       "445                  ?              ?              ?             NaN  \n",
       "452                  ?              ?              ?             NaN  \n",
       "...                ...            ...            ...             ...  \n",
       "49568                ?              ?              ?             NaN  \n",
       "49742                ?              ?              ?             NaN  \n",
       "49769                ?              ?              ?             NaN  \n",
       "49772                ?              ?              ?             NaN  \n",
       "49796                ?              ?              ?             NaN  \n",
       "\n",
       "[612 rows x 9 columns]"
      ]
     },
     "execution_count": 242,
     "metadata": {},
     "output_type": "execute_result"
    }
   ],
   "source": [
    "df[df['Sub_metering_3'].isnull()==True]"
   ]
  },
  {
   "cell_type": "code",
   "execution_count": 243,
   "id": "43210dc3",
   "metadata": {},
   "outputs": [],
   "source": [
    "# We will drop all the rows\n",
    "df.dropna(inplace=True)"
   ]
  },
  {
   "cell_type": "code",
   "execution_count": 244,
   "id": "df3859b0",
   "metadata": {},
   "outputs": [
    {
     "data": {
      "text/html": [
       "<div>\n",
       "<style scoped>\n",
       "    .dataframe tbody tr th:only-of-type {\n",
       "        vertical-align: middle;\n",
       "    }\n",
       "\n",
       "    .dataframe tbody tr th {\n",
       "        vertical-align: top;\n",
       "    }\n",
       "\n",
       "    .dataframe thead th {\n",
       "        text-align: right;\n",
       "    }\n",
       "</style>\n",
       "<table border=\"1\" class=\"dataframe\">\n",
       "  <thead>\n",
       "    <tr style=\"text-align: right;\">\n",
       "      <th></th>\n",
       "      <th>Date</th>\n",
       "      <th>Time</th>\n",
       "      <th>Global_active_power</th>\n",
       "      <th>Global_reactive_power</th>\n",
       "      <th>Voltage</th>\n",
       "      <th>Global_intensity</th>\n",
       "      <th>Sub_metering_1</th>\n",
       "      <th>Sub_metering_2</th>\n",
       "      <th>Sub_metering_3</th>\n",
       "    </tr>\n",
       "  </thead>\n",
       "  <tbody>\n",
       "  </tbody>\n",
       "</table>\n",
       "</div>"
      ],
      "text/plain": [
       "Empty DataFrame\n",
       "Columns: [Date, Time, Global_active_power, Global_reactive_power, Voltage, Global_intensity, Sub_metering_1, Sub_metering_2, Sub_metering_3]\n",
       "Index: []"
      ]
     },
     "execution_count": 244,
     "metadata": {},
     "output_type": "execute_result"
    }
   ],
   "source": [
    "df[df['Sub_metering_3'].isnull()==True]"
   ]
  },
  {
   "cell_type": "code",
   "execution_count": 245,
   "id": "5f83e42d",
   "metadata": {},
   "outputs": [
    {
     "data": {
      "text/plain": [
       "Date                     0\n",
       "Time                     0\n",
       "Global_active_power      0\n",
       "Global_reactive_power    0\n",
       "Voltage                  0\n",
       "Global_intensity         0\n",
       "Sub_metering_1           0\n",
       "Sub_metering_2           0\n",
       "Sub_metering_3           0\n",
       "dtype: int64"
      ]
     },
     "execution_count": 245,
     "metadata": {},
     "output_type": "execute_result"
    }
   ],
   "source": [
    "df.isnull().sum()"
   ]
  },
  {
   "cell_type": "markdown",
   "id": "db10ccba",
   "metadata": {},
   "source": [
    "### Change the Datatype"
   ]
  },
  {
   "cell_type": "code",
   "execution_count": 246,
   "id": "e969d20a",
   "metadata": {},
   "outputs": [
    {
     "data": {
      "text/plain": [
       "0          2/3/2009 12:09:00\n",
       "1        14/11/2007 06:33:00\n",
       "2         30/5/2009 11:29:00\n",
       "3         19/9/2010 22:17:00\n",
       "4         22/5/2007 13:08:00\n",
       "                ...         \n",
       "49995      5/6/2010 07:54:00\n",
       "49996    13/11/2009 18:24:00\n",
       "49997      1/9/2010 04:24:00\n",
       "49998     22/4/2009 18:26:00\n",
       "49999     11/9/2007 12:49:00\n",
       "Name: DateTime, Length: 49388, dtype: object"
      ]
     },
     "execution_count": 246,
     "metadata": {},
     "output_type": "execute_result"
    }
   ],
   "source": [
    "df['DateTime']=df['Date']+\" \"+df['Time']\n",
    "df['DateTime']"
   ]
  },
  {
   "cell_type": "code",
   "execution_count": 247,
   "id": "2b6d8fa7",
   "metadata": {},
   "outputs": [],
   "source": [
    "df['DateTime']=pd.to_datetime(df['DateTime'])"
   ]
  },
  {
   "cell_type": "code",
   "execution_count": 248,
   "id": "b5307751",
   "metadata": {},
   "outputs": [
    {
     "data": {
      "text/plain": [
       "12/9/2010     54\n",
       "19/11/2008    52\n",
       "30/10/2007    52\n",
       "24/2/2008     52\n",
       "22/9/2010     51\n",
       "              ..\n",
       "16/12/2006    10\n",
       "28/9/2010      8\n",
       "25/9/2010      5\n",
       "20/3/2010      3\n",
       "14/1/2010      3\n",
       "Name: Date, Length: 1430, dtype: int64"
      ]
     },
     "execution_count": 248,
     "metadata": {},
     "output_type": "execute_result"
    }
   ],
   "source": [
    "df['Date'].value_counts()"
   ]
  },
  {
   "cell_type": "code",
   "execution_count": 249,
   "id": "355389e1",
   "metadata": {},
   "outputs": [],
   "source": [
    "df['day']=df['DateTime'].dt.day\n",
    "df['month']=df['DateTime'].dt.month\n",
    "df['year']=df['DateTime'].dt.year\n",
    "df['hour']=df['DateTime'].dt.hour\n",
    "df['minute']=df['DateTime'].dt.minute"
   ]
  },
  {
   "cell_type": "code",
   "execution_count": 250,
   "id": "9c9758c6",
   "metadata": {},
   "outputs": [
    {
     "data": {
      "text/plain": [
       "2009-02-03 12:09:00    1\n",
       "2007-12-24 16:25:00    1\n",
       "2006-12-17 04:12:00    1\n",
       "2007-10-05 01:55:00    1\n",
       "2010-08-17 12:04:00    1\n",
       "                      ..\n",
       "2009-02-25 21:45:00    1\n",
       "2007-09-18 18:03:00    1\n",
       "2010-10-06 23:19:00    1\n",
       "2007-04-06 05:51:00    1\n",
       "2007-11-09 12:49:00    1\n",
       "Name: DateTime, Length: 49388, dtype: int64"
      ]
     },
     "execution_count": 250,
     "metadata": {},
     "output_type": "execute_result"
    }
   ],
   "source": [
    "df['DateTime'].value_counts()"
   ]
  },
  {
   "cell_type": "code",
   "execution_count": 251,
   "id": "4912338b",
   "metadata": {},
   "outputs": [
    {
     "data": {
      "text/html": [
       "<div>\n",
       "<style scoped>\n",
       "    .dataframe tbody tr th:only-of-type {\n",
       "        vertical-align: middle;\n",
       "    }\n",
       "\n",
       "    .dataframe tbody tr th {\n",
       "        vertical-align: top;\n",
       "    }\n",
       "\n",
       "    .dataframe thead th {\n",
       "        text-align: right;\n",
       "    }\n",
       "</style>\n",
       "<table border=\"1\" class=\"dataframe\">\n",
       "  <thead>\n",
       "    <tr style=\"text-align: right;\">\n",
       "      <th></th>\n",
       "      <th>Date</th>\n",
       "      <th>Time</th>\n",
       "      <th>Global_active_power</th>\n",
       "      <th>Global_reactive_power</th>\n",
       "      <th>Voltage</th>\n",
       "      <th>Global_intensity</th>\n",
       "      <th>Sub_metering_1</th>\n",
       "      <th>Sub_metering_2</th>\n",
       "      <th>Sub_metering_3</th>\n",
       "      <th>DateTime</th>\n",
       "      <th>day</th>\n",
       "      <th>month</th>\n",
       "      <th>year</th>\n",
       "      <th>hour</th>\n",
       "      <th>minute</th>\n",
       "    </tr>\n",
       "  </thead>\n",
       "  <tbody>\n",
       "    <tr>\n",
       "      <th>0</th>\n",
       "      <td>2/3/2009</td>\n",
       "      <td>12:09:00</td>\n",
       "      <td>0.496</td>\n",
       "      <td>0.054</td>\n",
       "      <td>243.720</td>\n",
       "      <td>2.600</td>\n",
       "      <td>0.000</td>\n",
       "      <td>0.000</td>\n",
       "      <td>0.0</td>\n",
       "      <td>2009-02-03 12:09:00</td>\n",
       "      <td>3</td>\n",
       "      <td>2</td>\n",
       "      <td>2009</td>\n",
       "      <td>12</td>\n",
       "      <td>9</td>\n",
       "    </tr>\n",
       "    <tr>\n",
       "      <th>1</th>\n",
       "      <td>14/11/2007</td>\n",
       "      <td>06:33:00</td>\n",
       "      <td>0.312</td>\n",
       "      <td>0.080</td>\n",
       "      <td>244.560</td>\n",
       "      <td>1.200</td>\n",
       "      <td>0.000</td>\n",
       "      <td>0.000</td>\n",
       "      <td>0.0</td>\n",
       "      <td>2007-11-14 06:33:00</td>\n",
       "      <td>14</td>\n",
       "      <td>11</td>\n",
       "      <td>2007</td>\n",
       "      <td>6</td>\n",
       "      <td>33</td>\n",
       "    </tr>\n",
       "    <tr>\n",
       "      <th>2</th>\n",
       "      <td>30/5/2009</td>\n",
       "      <td>11:29:00</td>\n",
       "      <td>0.584</td>\n",
       "      <td>0.198</td>\n",
       "      <td>239.970</td>\n",
       "      <td>2.600</td>\n",
       "      <td>0.000</td>\n",
       "      <td>0.000</td>\n",
       "      <td>1.0</td>\n",
       "      <td>2009-05-30 11:29:00</td>\n",
       "      <td>30</td>\n",
       "      <td>5</td>\n",
       "      <td>2009</td>\n",
       "      <td>11</td>\n",
       "      <td>29</td>\n",
       "    </tr>\n",
       "    <tr>\n",
       "      <th>3</th>\n",
       "      <td>19/9/2010</td>\n",
       "      <td>22:17:00</td>\n",
       "      <td>0.826</td>\n",
       "      <td>0.000</td>\n",
       "      <td>245.040</td>\n",
       "      <td>3.400</td>\n",
       "      <td>0.000</td>\n",
       "      <td>0.000</td>\n",
       "      <td>1.0</td>\n",
       "      <td>2010-09-19 22:17:00</td>\n",
       "      <td>19</td>\n",
       "      <td>9</td>\n",
       "      <td>2010</td>\n",
       "      <td>22</td>\n",
       "      <td>17</td>\n",
       "    </tr>\n",
       "    <tr>\n",
       "      <th>4</th>\n",
       "      <td>22/5/2007</td>\n",
       "      <td>13:08:00</td>\n",
       "      <td>0.318</td>\n",
       "      <td>0.076</td>\n",
       "      <td>237.040</td>\n",
       "      <td>1.400</td>\n",
       "      <td>0.000</td>\n",
       "      <td>0.000</td>\n",
       "      <td>0.0</td>\n",
       "      <td>2007-05-22 13:08:00</td>\n",
       "      <td>22</td>\n",
       "      <td>5</td>\n",
       "      <td>2007</td>\n",
       "      <td>13</td>\n",
       "      <td>8</td>\n",
       "    </tr>\n",
       "  </tbody>\n",
       "</table>\n",
       "</div>"
      ],
      "text/plain": [
       "         Date      Time Global_active_power Global_reactive_power  Voltage  \\\n",
       "0    2/3/2009  12:09:00               0.496                 0.054  243.720   \n",
       "1  14/11/2007  06:33:00               0.312                 0.080  244.560   \n",
       "2   30/5/2009  11:29:00               0.584                 0.198  239.970   \n",
       "3   19/9/2010  22:17:00               0.826                 0.000  245.040   \n",
       "4   22/5/2007  13:08:00               0.318                 0.076  237.040   \n",
       "\n",
       "  Global_intensity Sub_metering_1 Sub_metering_2  Sub_metering_3  \\\n",
       "0            2.600          0.000          0.000             0.0   \n",
       "1            1.200          0.000          0.000             0.0   \n",
       "2            2.600          0.000          0.000             1.0   \n",
       "3            3.400          0.000          0.000             1.0   \n",
       "4            1.400          0.000          0.000             0.0   \n",
       "\n",
       "             DateTime  day  month  year  hour  minute  \n",
       "0 2009-02-03 12:09:00    3      2  2009    12       9  \n",
       "1 2007-11-14 06:33:00   14     11  2007     6      33  \n",
       "2 2009-05-30 11:29:00   30      5  2009    11      29  \n",
       "3 2010-09-19 22:17:00   19      9  2010    22      17  \n",
       "4 2007-05-22 13:08:00   22      5  2007    13       8  "
      ]
     },
     "execution_count": 251,
     "metadata": {},
     "output_type": "execute_result"
    }
   ],
   "source": [
    "df.head()"
   ]
  },
  {
   "cell_type": "code",
   "execution_count": 252,
   "id": "01a95077",
   "metadata": {},
   "outputs": [],
   "source": [
    "df=df.drop(['Date','Time','DateTime'],axis=1)"
   ]
  },
  {
   "cell_type": "code",
   "execution_count": 253,
   "id": "a2f9be4f",
   "metadata": {},
   "outputs": [
    {
     "data": {
      "text/html": [
       "<div>\n",
       "<style scoped>\n",
       "    .dataframe tbody tr th:only-of-type {\n",
       "        vertical-align: middle;\n",
       "    }\n",
       "\n",
       "    .dataframe tbody tr th {\n",
       "        vertical-align: top;\n",
       "    }\n",
       "\n",
       "    .dataframe thead th {\n",
       "        text-align: right;\n",
       "    }\n",
       "</style>\n",
       "<table border=\"1\" class=\"dataframe\">\n",
       "  <thead>\n",
       "    <tr style=\"text-align: right;\">\n",
       "      <th></th>\n",
       "      <th>Global_active_power</th>\n",
       "      <th>Global_reactive_power</th>\n",
       "      <th>Voltage</th>\n",
       "      <th>Global_intensity</th>\n",
       "      <th>Sub_metering_1</th>\n",
       "      <th>Sub_metering_2</th>\n",
       "      <th>Sub_metering_3</th>\n",
       "      <th>day</th>\n",
       "      <th>month</th>\n",
       "      <th>year</th>\n",
       "      <th>hour</th>\n",
       "      <th>minute</th>\n",
       "    </tr>\n",
       "  </thead>\n",
       "  <tbody>\n",
       "    <tr>\n",
       "      <th>0</th>\n",
       "      <td>0.496</td>\n",
       "      <td>0.054</td>\n",
       "      <td>243.720</td>\n",
       "      <td>2.600</td>\n",
       "      <td>0.000</td>\n",
       "      <td>0.000</td>\n",
       "      <td>0.0</td>\n",
       "      <td>3</td>\n",
       "      <td>2</td>\n",
       "      <td>2009</td>\n",
       "      <td>12</td>\n",
       "      <td>9</td>\n",
       "    </tr>\n",
       "    <tr>\n",
       "      <th>1</th>\n",
       "      <td>0.312</td>\n",
       "      <td>0.080</td>\n",
       "      <td>244.560</td>\n",
       "      <td>1.200</td>\n",
       "      <td>0.000</td>\n",
       "      <td>0.000</td>\n",
       "      <td>0.0</td>\n",
       "      <td>14</td>\n",
       "      <td>11</td>\n",
       "      <td>2007</td>\n",
       "      <td>6</td>\n",
       "      <td>33</td>\n",
       "    </tr>\n",
       "    <tr>\n",
       "      <th>2</th>\n",
       "      <td>0.584</td>\n",
       "      <td>0.198</td>\n",
       "      <td>239.970</td>\n",
       "      <td>2.600</td>\n",
       "      <td>0.000</td>\n",
       "      <td>0.000</td>\n",
       "      <td>1.0</td>\n",
       "      <td>30</td>\n",
       "      <td>5</td>\n",
       "      <td>2009</td>\n",
       "      <td>11</td>\n",
       "      <td>29</td>\n",
       "    </tr>\n",
       "    <tr>\n",
       "      <th>3</th>\n",
       "      <td>0.826</td>\n",
       "      <td>0.000</td>\n",
       "      <td>245.040</td>\n",
       "      <td>3.400</td>\n",
       "      <td>0.000</td>\n",
       "      <td>0.000</td>\n",
       "      <td>1.0</td>\n",
       "      <td>19</td>\n",
       "      <td>9</td>\n",
       "      <td>2010</td>\n",
       "      <td>22</td>\n",
       "      <td>17</td>\n",
       "    </tr>\n",
       "    <tr>\n",
       "      <th>4</th>\n",
       "      <td>0.318</td>\n",
       "      <td>0.076</td>\n",
       "      <td>237.040</td>\n",
       "      <td>1.400</td>\n",
       "      <td>0.000</td>\n",
       "      <td>0.000</td>\n",
       "      <td>0.0</td>\n",
       "      <td>22</td>\n",
       "      <td>5</td>\n",
       "      <td>2007</td>\n",
       "      <td>13</td>\n",
       "      <td>8</td>\n",
       "    </tr>\n",
       "  </tbody>\n",
       "</table>\n",
       "</div>"
      ],
      "text/plain": [
       "  Global_active_power Global_reactive_power  Voltage Global_intensity  \\\n",
       "0               0.496                 0.054  243.720            2.600   \n",
       "1               0.312                 0.080  244.560            1.200   \n",
       "2               0.584                 0.198  239.970            2.600   \n",
       "3               0.826                 0.000  245.040            3.400   \n",
       "4               0.318                 0.076  237.040            1.400   \n",
       "\n",
       "  Sub_metering_1 Sub_metering_2  Sub_metering_3  day  month  year  hour  \\\n",
       "0          0.000          0.000             0.0    3      2  2009    12   \n",
       "1          0.000          0.000             0.0   14     11  2007     6   \n",
       "2          0.000          0.000             1.0   30      5  2009    11   \n",
       "3          0.000          0.000             1.0   19      9  2010    22   \n",
       "4          0.000          0.000             0.0   22      5  2007    13   \n",
       "\n",
       "   minute  \n",
       "0       9  \n",
       "1      33  \n",
       "2      29  \n",
       "3      17  \n",
       "4       8  "
      ]
     },
     "execution_count": 253,
     "metadata": {},
     "output_type": "execute_result"
    }
   ],
   "source": [
    "df.head()"
   ]
  },
  {
   "cell_type": "code",
   "execution_count": 254,
   "id": "dd2f0854",
   "metadata": {},
   "outputs": [
    {
     "name": "stdout",
     "output_type": "stream",
     "text": [
      "<class 'pandas.core.frame.DataFrame'>\n",
      "Int64Index: 49388 entries, 0 to 49999\n",
      "Data columns (total 12 columns):\n",
      " #   Column                 Non-Null Count  Dtype  \n",
      "---  ------                 --------------  -----  \n",
      " 0   Global_active_power    49388 non-null  object \n",
      " 1   Global_reactive_power  49388 non-null  object \n",
      " 2   Voltage                49388 non-null  object \n",
      " 3   Global_intensity       49388 non-null  object \n",
      " 4   Sub_metering_1         49388 non-null  object \n",
      " 5   Sub_metering_2         49388 non-null  object \n",
      " 6   Sub_metering_3         49388 non-null  float64\n",
      " 7   day                    49388 non-null  int64  \n",
      " 8   month                  49388 non-null  int64  \n",
      " 9   year                   49388 non-null  int64  \n",
      " 10  hour                   49388 non-null  int64  \n",
      " 11  minute                 49388 non-null  int64  \n",
      "dtypes: float64(1), int64(5), object(6)\n",
      "memory usage: 4.9+ MB\n"
     ]
    }
   ],
   "source": [
    "df.info()"
   ]
  },
  {
   "cell_type": "code",
   "execution_count": 255,
   "id": "e634fc3c",
   "metadata": {},
   "outputs": [],
   "source": [
    "df['Global_active_power']=df['Global_active_power'].astype(float)\n",
    "df['Global_reactive_power']=df['Global_reactive_power'].astype('float')\n",
    "df['Voltage']=df['Voltage'].astype('float')\n",
    "df['Global_intensity']=df['Global_intensity'].astype('float')\n",
    "df['Sub_metering_1']=df['Sub_metering_1'].astype('float')\n",
    "df['Sub_metering_2']=df['Sub_metering_2'].astype('float')\n",
    "df['Sub_metering_3']=df['Sub_metering_3'].astype('float')"
   ]
  },
  {
   "cell_type": "code",
   "execution_count": 256,
   "id": "36ded335",
   "metadata": {},
   "outputs": [
    {
     "name": "stdout",
     "output_type": "stream",
     "text": [
      "<class 'pandas.core.frame.DataFrame'>\n",
      "Int64Index: 49388 entries, 0 to 49999\n",
      "Data columns (total 12 columns):\n",
      " #   Column                 Non-Null Count  Dtype  \n",
      "---  ------                 --------------  -----  \n",
      " 0   Global_active_power    49388 non-null  float64\n",
      " 1   Global_reactive_power  49388 non-null  float64\n",
      " 2   Voltage                49388 non-null  float64\n",
      " 3   Global_intensity       49388 non-null  float64\n",
      " 4   Sub_metering_1         49388 non-null  float64\n",
      " 5   Sub_metering_2         49388 non-null  float64\n",
      " 6   Sub_metering_3         49388 non-null  float64\n",
      " 7   day                    49388 non-null  int64  \n",
      " 8   month                  49388 non-null  int64  \n",
      " 9   year                   49388 non-null  int64  \n",
      " 10  hour                   49388 non-null  int64  \n",
      " 11  minute                 49388 non-null  int64  \n",
      "dtypes: float64(7), int64(5)\n",
      "memory usage: 4.9 MB\n"
     ]
    }
   ],
   "source": [
    "df.info()"
   ]
  },
  {
   "cell_type": "markdown",
   "id": "b49eba87",
   "metadata": {},
   "source": [
    "Now I have changed all the data types into float / int"
   ]
  },
  {
   "cell_type": "code",
   "execution_count": 257,
   "id": "b40d5db5",
   "metadata": {},
   "outputs": [
    {
     "data": {
      "text/plain": [
       "0"
      ]
     },
     "execution_count": 257,
     "metadata": {},
     "output_type": "execute_result"
    }
   ],
   "source": [
    "# checking overall null values\n",
    "df.isnull().sum().sum()"
   ]
  },
  {
   "cell_type": "code",
   "execution_count": 258,
   "id": "09703255",
   "metadata": {},
   "outputs": [
    {
     "data": {
      "text/html": [
       "<div>\n",
       "<style scoped>\n",
       "    .dataframe tbody tr th:only-of-type {\n",
       "        vertical-align: middle;\n",
       "    }\n",
       "\n",
       "    .dataframe tbody tr th {\n",
       "        vertical-align: top;\n",
       "    }\n",
       "\n",
       "    .dataframe thead th {\n",
       "        text-align: right;\n",
       "    }\n",
       "</style>\n",
       "<table border=\"1\" class=\"dataframe\">\n",
       "  <thead>\n",
       "    <tr style=\"text-align: right;\">\n",
       "      <th></th>\n",
       "      <th>Global_active_power</th>\n",
       "      <th>Global_reactive_power</th>\n",
       "      <th>Voltage</th>\n",
       "      <th>Global_intensity</th>\n",
       "      <th>day</th>\n",
       "      <th>month</th>\n",
       "      <th>year</th>\n",
       "      <th>hour</th>\n",
       "      <th>minute</th>\n",
       "      <th>Total Reading</th>\n",
       "    </tr>\n",
       "  </thead>\n",
       "  <tbody>\n",
       "    <tr>\n",
       "      <th>0</th>\n",
       "      <td>0.496</td>\n",
       "      <td>0.054</td>\n",
       "      <td>243.72</td>\n",
       "      <td>2.6</td>\n",
       "      <td>3</td>\n",
       "      <td>2</td>\n",
       "      <td>2009</td>\n",
       "      <td>12</td>\n",
       "      <td>9</td>\n",
       "      <td>0.0</td>\n",
       "    </tr>\n",
       "    <tr>\n",
       "      <th>1</th>\n",
       "      <td>0.312</td>\n",
       "      <td>0.080</td>\n",
       "      <td>244.56</td>\n",
       "      <td>1.2</td>\n",
       "      <td>14</td>\n",
       "      <td>11</td>\n",
       "      <td>2007</td>\n",
       "      <td>6</td>\n",
       "      <td>33</td>\n",
       "      <td>0.0</td>\n",
       "    </tr>\n",
       "    <tr>\n",
       "      <th>2</th>\n",
       "      <td>0.584</td>\n",
       "      <td>0.198</td>\n",
       "      <td>239.97</td>\n",
       "      <td>2.6</td>\n",
       "      <td>30</td>\n",
       "      <td>5</td>\n",
       "      <td>2009</td>\n",
       "      <td>11</td>\n",
       "      <td>29</td>\n",
       "      <td>1.0</td>\n",
       "    </tr>\n",
       "    <tr>\n",
       "      <th>3</th>\n",
       "      <td>0.826</td>\n",
       "      <td>0.000</td>\n",
       "      <td>245.04</td>\n",
       "      <td>3.4</td>\n",
       "      <td>19</td>\n",
       "      <td>9</td>\n",
       "      <td>2010</td>\n",
       "      <td>22</td>\n",
       "      <td>17</td>\n",
       "      <td>1.0</td>\n",
       "    </tr>\n",
       "    <tr>\n",
       "      <th>4</th>\n",
       "      <td>0.318</td>\n",
       "      <td>0.076</td>\n",
       "      <td>237.04</td>\n",
       "      <td>1.4</td>\n",
       "      <td>22</td>\n",
       "      <td>5</td>\n",
       "      <td>2007</td>\n",
       "      <td>13</td>\n",
       "      <td>8</td>\n",
       "      <td>0.0</td>\n",
       "    </tr>\n",
       "  </tbody>\n",
       "</table>\n",
       "</div>"
      ],
      "text/plain": [
       "   Global_active_power  Global_reactive_power  Voltage  Global_intensity  day  \\\n",
       "0                0.496                  0.054   243.72               2.6    3   \n",
       "1                0.312                  0.080   244.56               1.2   14   \n",
       "2                0.584                  0.198   239.97               2.6   30   \n",
       "3                0.826                  0.000   245.04               3.4   19   \n",
       "4                0.318                  0.076   237.04               1.4   22   \n",
       "\n",
       "   month  year  hour  minute  Total Reading  \n",
       "0      2  2009    12       9            0.0  \n",
       "1     11  2007     6      33            0.0  \n",
       "2      5  2009    11      29            1.0  \n",
       "3      9  2010    22      17            1.0  \n",
       "4      5  2007    13       8            0.0  "
      ]
     },
     "execution_count": 258,
     "metadata": {},
     "output_type": "execute_result"
    }
   ],
   "source": [
    "df['Total Reading']=df['Sub_metering_1']+df['Sub_metering_2']+df['Sub_metering_3']\n",
    "df=df.drop(['Sub_metering_1', 'Sub_metering_2','Sub_metering_3'],axis=1)\n",
    "df.head()"
   ]
  },
  {
   "cell_type": "code",
   "execution_count": 259,
   "id": "a1bee6d5",
   "metadata": {},
   "outputs": [
    {
     "name": "stdout",
     "output_type": "stream",
     "text": [
      "<class 'pandas.core.frame.DataFrame'>\n",
      "Int64Index: 49388 entries, 0 to 49999\n",
      "Data columns (total 10 columns):\n",
      " #   Column                 Non-Null Count  Dtype  \n",
      "---  ------                 --------------  -----  \n",
      " 0   Global_active_power    49388 non-null  float64\n",
      " 1   Global_reactive_power  49388 non-null  float64\n",
      " 2   Voltage                49388 non-null  float64\n",
      " 3   Global_intensity       49388 non-null  float64\n",
      " 4   day                    49388 non-null  int64  \n",
      " 5   month                  49388 non-null  int64  \n",
      " 6   year                   49388 non-null  int64  \n",
      " 7   hour                   49388 non-null  int64  \n",
      " 8   minute                 49388 non-null  int64  \n",
      " 9   Total Reading          49388 non-null  float64\n",
      "dtypes: float64(5), int64(5)\n",
      "memory usage: 4.1 MB\n"
     ]
    }
   ],
   "source": [
    "df.info()"
   ]
  },
  {
   "cell_type": "markdown",
   "id": "fb1c7742",
   "metadata": {},
   "source": [
    "### Duplicate data"
   ]
  },
  {
   "cell_type": "code",
   "execution_count": 260,
   "id": "ed3f08ac",
   "metadata": {},
   "outputs": [
    {
     "data": {
      "text/html": [
       "<div>\n",
       "<style scoped>\n",
       "    .dataframe tbody tr th:only-of-type {\n",
       "        vertical-align: middle;\n",
       "    }\n",
       "\n",
       "    .dataframe tbody tr th {\n",
       "        vertical-align: top;\n",
       "    }\n",
       "\n",
       "    .dataframe thead th {\n",
       "        text-align: right;\n",
       "    }\n",
       "</style>\n",
       "<table border=\"1\" class=\"dataframe\">\n",
       "  <thead>\n",
       "    <tr style=\"text-align: right;\">\n",
       "      <th></th>\n",
       "      <th>Global_active_power</th>\n",
       "      <th>Global_reactive_power</th>\n",
       "      <th>Voltage</th>\n",
       "      <th>Global_intensity</th>\n",
       "      <th>day</th>\n",
       "      <th>month</th>\n",
       "      <th>year</th>\n",
       "      <th>hour</th>\n",
       "      <th>minute</th>\n",
       "      <th>Total Reading</th>\n",
       "    </tr>\n",
       "  </thead>\n",
       "  <tbody>\n",
       "  </tbody>\n",
       "</table>\n",
       "</div>"
      ],
      "text/plain": [
       "Empty DataFrame\n",
       "Columns: [Global_active_power, Global_reactive_power, Voltage, Global_intensity, day, month, year, hour, minute, Total Reading]\n",
       "Index: []"
      ]
     },
     "execution_count": 260,
     "metadata": {},
     "output_type": "execute_result"
    }
   ],
   "source": [
    "df[df.duplicated()]"
   ]
  },
  {
   "cell_type": "markdown",
   "id": "8b7639e2",
   "metadata": {},
   "source": [
    "No duplicate data found in the dataset"
   ]
  },
  {
   "cell_type": "markdown",
   "id": "60cf2afe",
   "metadata": {},
   "source": [
    "### Statistical Analysis"
   ]
  },
  {
   "cell_type": "code",
   "execution_count": 261,
   "id": "48e59804",
   "metadata": {},
   "outputs": [
    {
     "data": {
      "text/html": [
       "<div>\n",
       "<style scoped>\n",
       "    .dataframe tbody tr th:only-of-type {\n",
       "        vertical-align: middle;\n",
       "    }\n",
       "\n",
       "    .dataframe tbody tr th {\n",
       "        vertical-align: top;\n",
       "    }\n",
       "\n",
       "    .dataframe thead th {\n",
       "        text-align: right;\n",
       "    }\n",
       "</style>\n",
       "<table border=\"1\" class=\"dataframe\">\n",
       "  <thead>\n",
       "    <tr style=\"text-align: right;\">\n",
       "      <th></th>\n",
       "      <th>Global_active_power</th>\n",
       "      <th>Global_reactive_power</th>\n",
       "      <th>Voltage</th>\n",
       "      <th>Global_intensity</th>\n",
       "      <th>day</th>\n",
       "      <th>month</th>\n",
       "      <th>year</th>\n",
       "      <th>hour</th>\n",
       "      <th>minute</th>\n",
       "      <th>Total Reading</th>\n",
       "    </tr>\n",
       "  </thead>\n",
       "  <tbody>\n",
       "    <tr>\n",
       "      <th>count</th>\n",
       "      <td>49388.000000</td>\n",
       "      <td>49388.000000</td>\n",
       "      <td>49388.000000</td>\n",
       "      <td>49388.000000</td>\n",
       "      <td>49388.000000</td>\n",
       "      <td>49388.000000</td>\n",
       "      <td>49388.000000</td>\n",
       "      <td>49388.000000</td>\n",
       "      <td>49388.000000</td>\n",
       "      <td>49388.000000</td>\n",
       "    </tr>\n",
       "    <tr>\n",
       "      <th>mean</th>\n",
       "      <td>1.100535</td>\n",
       "      <td>0.124413</td>\n",
       "      <td>240.822425</td>\n",
       "      <td>4.665895</td>\n",
       "      <td>15.706791</td>\n",
       "      <td>6.514720</td>\n",
       "      <td>2008.425447</td>\n",
       "      <td>11.493683</td>\n",
       "      <td>29.402041</td>\n",
       "      <td>8.957318</td>\n",
       "    </tr>\n",
       "    <tr>\n",
       "      <th>std</th>\n",
       "      <td>1.070495</td>\n",
       "      <td>0.113096</td>\n",
       "      <td>3.247069</td>\n",
       "      <td>4.502276</td>\n",
       "      <td>8.857389</td>\n",
       "      <td>3.445494</td>\n",
       "      <td>1.123749</td>\n",
       "      <td>6.889483</td>\n",
       "      <td>17.302683</td>\n",
       "      <td>13.006493</td>\n",
       "    </tr>\n",
       "    <tr>\n",
       "      <th>min</th>\n",
       "      <td>0.078000</td>\n",
       "      <td>0.000000</td>\n",
       "      <td>225.130000</td>\n",
       "      <td>0.200000</td>\n",
       "      <td>1.000000</td>\n",
       "      <td>1.000000</td>\n",
       "      <td>2006.000000</td>\n",
       "      <td>0.000000</td>\n",
       "      <td>0.000000</td>\n",
       "      <td>0.000000</td>\n",
       "    </tr>\n",
       "    <tr>\n",
       "      <th>25%</th>\n",
       "      <td>0.310000</td>\n",
       "      <td>0.048000</td>\n",
       "      <td>238.970000</td>\n",
       "      <td>1.400000</td>\n",
       "      <td>8.000000</td>\n",
       "      <td>4.000000</td>\n",
       "      <td>2007.000000</td>\n",
       "      <td>6.000000</td>\n",
       "      <td>14.000000</td>\n",
       "      <td>0.000000</td>\n",
       "    </tr>\n",
       "    <tr>\n",
       "      <th>50%</th>\n",
       "      <td>0.608000</td>\n",
       "      <td>0.100000</td>\n",
       "      <td>240.980000</td>\n",
       "      <td>2.600000</td>\n",
       "      <td>16.000000</td>\n",
       "      <td>7.000000</td>\n",
       "      <td>2008.000000</td>\n",
       "      <td>11.000000</td>\n",
       "      <td>29.000000</td>\n",
       "      <td>1.000000</td>\n",
       "    </tr>\n",
       "    <tr>\n",
       "      <th>75%</th>\n",
       "      <td>1.538000</td>\n",
       "      <td>0.194500</td>\n",
       "      <td>242.880000</td>\n",
       "      <td>6.400000</td>\n",
       "      <td>23.000000</td>\n",
       "      <td>10.000000</td>\n",
       "      <td>2009.000000</td>\n",
       "      <td>17.000000</td>\n",
       "      <td>44.000000</td>\n",
       "      <td>18.000000</td>\n",
       "    </tr>\n",
       "    <tr>\n",
       "      <th>max</th>\n",
       "      <td>10.064000</td>\n",
       "      <td>0.982000</td>\n",
       "      <td>253.290000</td>\n",
       "      <td>43.400000</td>\n",
       "      <td>31.000000</td>\n",
       "      <td>12.000000</td>\n",
       "      <td>2010.000000</td>\n",
       "      <td>23.000000</td>\n",
       "      <td>59.000000</td>\n",
       "      <td>128.000000</td>\n",
       "    </tr>\n",
       "  </tbody>\n",
       "</table>\n",
       "</div>"
      ],
      "text/plain": [
       "       Global_active_power  Global_reactive_power       Voltage  \\\n",
       "count         49388.000000           49388.000000  49388.000000   \n",
       "mean              1.100535               0.124413    240.822425   \n",
       "std               1.070495               0.113096      3.247069   \n",
       "min               0.078000               0.000000    225.130000   \n",
       "25%               0.310000               0.048000    238.970000   \n",
       "50%               0.608000               0.100000    240.980000   \n",
       "75%               1.538000               0.194500    242.880000   \n",
       "max              10.064000               0.982000    253.290000   \n",
       "\n",
       "       Global_intensity           day         month          year  \\\n",
       "count      49388.000000  49388.000000  49388.000000  49388.000000   \n",
       "mean           4.665895     15.706791      6.514720   2008.425447   \n",
       "std            4.502276      8.857389      3.445494      1.123749   \n",
       "min            0.200000      1.000000      1.000000   2006.000000   \n",
       "25%            1.400000      8.000000      4.000000   2007.000000   \n",
       "50%            2.600000     16.000000      7.000000   2008.000000   \n",
       "75%            6.400000     23.000000     10.000000   2009.000000   \n",
       "max           43.400000     31.000000     12.000000   2010.000000   \n",
       "\n",
       "               hour        minute  Total Reading  \n",
       "count  49388.000000  49388.000000   49388.000000  \n",
       "mean      11.493683     29.402041       8.957318  \n",
       "std        6.889483     17.302683      13.006493  \n",
       "min        0.000000      0.000000       0.000000  \n",
       "25%        6.000000     14.000000       0.000000  \n",
       "50%       11.000000     29.000000       1.000000  \n",
       "75%       17.000000     44.000000      18.000000  \n",
       "max       23.000000     59.000000     128.000000  "
      ]
     },
     "execution_count": 261,
     "metadata": {},
     "output_type": "execute_result"
    }
   ],
   "source": [
    "df.describe()"
   ]
  },
  {
   "cell_type": "markdown",
   "id": "00556f11",
   "metadata": {},
   "source": [
    "### Observations"
   ]
  },
  {
   "cell_type": "markdown",
   "id": "395abac0",
   "metadata": {},
   "source": [
    "We could see there are some outliers in the Global_active_power , Global_intensity "
   ]
  },
  {
   "cell_type": "markdown",
   "id": "7c280d5e",
   "metadata": {},
   "source": [
    "### Correlation "
   ]
  },
  {
   "cell_type": "code",
   "execution_count": 262,
   "id": "49c4ad5c",
   "metadata": {},
   "outputs": [
    {
     "data": {
      "text/html": [
       "<div>\n",
       "<style scoped>\n",
       "    .dataframe tbody tr th:only-of-type {\n",
       "        vertical-align: middle;\n",
       "    }\n",
       "\n",
       "    .dataframe tbody tr th {\n",
       "        vertical-align: top;\n",
       "    }\n",
       "\n",
       "    .dataframe thead th {\n",
       "        text-align: right;\n",
       "    }\n",
       "</style>\n",
       "<table border=\"1\" class=\"dataframe\">\n",
       "  <thead>\n",
       "    <tr style=\"text-align: right;\">\n",
       "      <th></th>\n",
       "      <th>Global_active_power</th>\n",
       "      <th>Global_reactive_power</th>\n",
       "      <th>Voltage</th>\n",
       "      <th>Global_intensity</th>\n",
       "      <th>day</th>\n",
       "      <th>month</th>\n",
       "      <th>year</th>\n",
       "      <th>hour</th>\n",
       "      <th>minute</th>\n",
       "      <th>Total Reading</th>\n",
       "    </tr>\n",
       "  </thead>\n",
       "  <tbody>\n",
       "    <tr>\n",
       "      <th>Global_active_power</th>\n",
       "      <td>1.000000</td>\n",
       "      <td>0.248498</td>\n",
       "      <td>-0.399455</td>\n",
       "      <td>0.998903</td>\n",
       "      <td>-0.010819</td>\n",
       "      <td>0.004574</td>\n",
       "      <td>-0.035574</td>\n",
       "      <td>0.289857</td>\n",
       "      <td>-0.004101</td>\n",
       "      <td>0.848676</td>\n",
       "    </tr>\n",
       "    <tr>\n",
       "      <th>Global_reactive_power</th>\n",
       "      <td>0.248498</td>\n",
       "      <td>1.000000</td>\n",
       "      <td>-0.114390</td>\n",
       "      <td>0.267479</td>\n",
       "      <td>0.003938</td>\n",
       "      <td>0.008929</td>\n",
       "      <td>0.042847</td>\n",
       "      <td>0.131419</td>\n",
       "      <td>-0.002884</td>\n",
       "      <td>0.180093</td>\n",
       "    </tr>\n",
       "    <tr>\n",
       "      <th>Voltage</th>\n",
       "      <td>-0.399455</td>\n",
       "      <td>-0.114390</td>\n",
       "      <td>1.000000</td>\n",
       "      <td>-0.410685</td>\n",
       "      <td>-0.004180</td>\n",
       "      <td>0.037774</td>\n",
       "      <td>0.255896</td>\n",
       "      <td>-0.179538</td>\n",
       "      <td>0.014643</td>\n",
       "      <td>-0.342851</td>\n",
       "    </tr>\n",
       "    <tr>\n",
       "      <th>Global_intensity</th>\n",
       "      <td>0.998903</td>\n",
       "      <td>0.267479</td>\n",
       "      <td>-0.410685</td>\n",
       "      <td>1.000000</td>\n",
       "      <td>-0.010741</td>\n",
       "      <td>0.003638</td>\n",
       "      <td>-0.039974</td>\n",
       "      <td>0.290009</td>\n",
       "      <td>-0.004490</td>\n",
       "      <td>0.845611</td>\n",
       "    </tr>\n",
       "    <tr>\n",
       "      <th>day</th>\n",
       "      <td>-0.010819</td>\n",
       "      <td>0.003938</td>\n",
       "      <td>-0.004180</td>\n",
       "      <td>-0.010741</td>\n",
       "      <td>1.000000</td>\n",
       "      <td>0.003146</td>\n",
       "      <td>-0.036733</td>\n",
       "      <td>0.005159</td>\n",
       "      <td>-0.007634</td>\n",
       "      <td>-0.013270</td>\n",
       "    </tr>\n",
       "    <tr>\n",
       "      <th>month</th>\n",
       "      <td>0.004574</td>\n",
       "      <td>0.008929</td>\n",
       "      <td>0.037774</td>\n",
       "      <td>0.003638</td>\n",
       "      <td>0.003146</td>\n",
       "      <td>1.000000</td>\n",
       "      <td>-0.071474</td>\n",
       "      <td>-0.002817</td>\n",
       "      <td>0.003028</td>\n",
       "      <td>-0.003638</td>\n",
       "    </tr>\n",
       "    <tr>\n",
       "      <th>year</th>\n",
       "      <td>-0.035574</td>\n",
       "      <td>0.042847</td>\n",
       "      <td>0.255896</td>\n",
       "      <td>-0.039974</td>\n",
       "      <td>-0.036733</td>\n",
       "      <td>-0.071474</td>\n",
       "      <td>1.000000</td>\n",
       "      <td>0.003334</td>\n",
       "      <td>-0.003894</td>\n",
       "      <td>0.020403</td>\n",
       "    </tr>\n",
       "    <tr>\n",
       "      <th>hour</th>\n",
       "      <td>0.289857</td>\n",
       "      <td>0.131419</td>\n",
       "      <td>-0.179538</td>\n",
       "      <td>0.290009</td>\n",
       "      <td>0.005159</td>\n",
       "      <td>-0.002817</td>\n",
       "      <td>0.003334</td>\n",
       "      <td>1.000000</td>\n",
       "      <td>0.002369</td>\n",
       "      <td>0.174809</td>\n",
       "    </tr>\n",
       "    <tr>\n",
       "      <th>minute</th>\n",
       "      <td>-0.004101</td>\n",
       "      <td>-0.002884</td>\n",
       "      <td>0.014643</td>\n",
       "      <td>-0.004490</td>\n",
       "      <td>-0.007634</td>\n",
       "      <td>0.003028</td>\n",
       "      <td>-0.003894</td>\n",
       "      <td>0.002369</td>\n",
       "      <td>1.000000</td>\n",
       "      <td>-0.009612</td>\n",
       "    </tr>\n",
       "    <tr>\n",
       "      <th>Total Reading</th>\n",
       "      <td>0.848676</td>\n",
       "      <td>0.180093</td>\n",
       "      <td>-0.342851</td>\n",
       "      <td>0.845611</td>\n",
       "      <td>-0.013270</td>\n",
       "      <td>-0.003638</td>\n",
       "      <td>0.020403</td>\n",
       "      <td>0.174809</td>\n",
       "      <td>-0.009612</td>\n",
       "      <td>1.000000</td>\n",
       "    </tr>\n",
       "  </tbody>\n",
       "</table>\n",
       "</div>"
      ],
      "text/plain": [
       "                       Global_active_power  Global_reactive_power   Voltage  \\\n",
       "Global_active_power               1.000000               0.248498 -0.399455   \n",
       "Global_reactive_power             0.248498               1.000000 -0.114390   \n",
       "Voltage                          -0.399455              -0.114390  1.000000   \n",
       "Global_intensity                  0.998903               0.267479 -0.410685   \n",
       "day                              -0.010819               0.003938 -0.004180   \n",
       "month                             0.004574               0.008929  0.037774   \n",
       "year                             -0.035574               0.042847  0.255896   \n",
       "hour                              0.289857               0.131419 -0.179538   \n",
       "minute                           -0.004101              -0.002884  0.014643   \n",
       "Total Reading                     0.848676               0.180093 -0.342851   \n",
       "\n",
       "                       Global_intensity       day     month      year  \\\n",
       "Global_active_power            0.998903 -0.010819  0.004574 -0.035574   \n",
       "Global_reactive_power          0.267479  0.003938  0.008929  0.042847   \n",
       "Voltage                       -0.410685 -0.004180  0.037774  0.255896   \n",
       "Global_intensity               1.000000 -0.010741  0.003638 -0.039974   \n",
       "day                           -0.010741  1.000000  0.003146 -0.036733   \n",
       "month                          0.003638  0.003146  1.000000 -0.071474   \n",
       "year                          -0.039974 -0.036733 -0.071474  1.000000   \n",
       "hour                           0.290009  0.005159 -0.002817  0.003334   \n",
       "minute                        -0.004490 -0.007634  0.003028 -0.003894   \n",
       "Total Reading                  0.845611 -0.013270 -0.003638  0.020403   \n",
       "\n",
       "                           hour    minute  Total Reading  \n",
       "Global_active_power    0.289857 -0.004101       0.848676  \n",
       "Global_reactive_power  0.131419 -0.002884       0.180093  \n",
       "Voltage               -0.179538  0.014643      -0.342851  \n",
       "Global_intensity       0.290009 -0.004490       0.845611  \n",
       "day                    0.005159 -0.007634      -0.013270  \n",
       "month                 -0.002817  0.003028      -0.003638  \n",
       "year                   0.003334 -0.003894       0.020403  \n",
       "hour                   1.000000  0.002369       0.174809  \n",
       "minute                 0.002369  1.000000      -0.009612  \n",
       "Total Reading          0.174809 -0.009612       1.000000  "
      ]
     },
     "execution_count": 262,
     "metadata": {},
     "output_type": "execute_result"
    }
   ],
   "source": [
    "df.corr()"
   ]
  },
  {
   "cell_type": "code",
   "execution_count": 263,
   "id": "db268eb6",
   "metadata": {},
   "outputs": [
    {
     "data": {
      "text/plain": [
       "<AxesSubplot: >"
      ]
     },
     "execution_count": 263,
     "metadata": {},
     "output_type": "execute_result"
    },
    {
     "data": {
      "image/png": "[encoded data removed]",
      "text/plain": [
       "<Figure size 1080x720 with 2 Axes>"
      ]
     },
     "metadata": {},
     "output_type": "display_data"
    }
   ],
   "source": [
    "sns.set(rc={\"figure.figsize\":(15,10)})\n",
    "sns.heatmap(df.corr(),annot=True)"
   ]
  },
  {
   "cell_type": "markdown",
   "id": "09a62134",
   "metadata": {},
   "source": [
    "### Observations"
   ]
  },
  {
   "cell_type": "markdown",
   "id": "131eddc7",
   "metadata": {},
   "source": [
    "We could observe that Total Reading is proportional to the Global_active_power and Global_intensity and nonproportional to voltage"
   ]
  },
  {
   "cell_type": "markdown",
   "id": "48371a93",
   "metadata": {},
   "source": [
    "We could observe that date time has no impact on total reading so we will remove those extra columns"
   ]
  },
  {
   "cell_type": "code",
   "execution_count": 314,
   "id": "9af7ac6e",
   "metadata": {},
   "outputs": [
    {
     "data": {
      "text/html": [
       "<div>\n",
       "<style scoped>\n",
       "    .dataframe tbody tr th:only-of-type {\n",
       "        vertical-align: middle;\n",
       "    }\n",
       "\n",
       "    .dataframe tbody tr th {\n",
       "        vertical-align: top;\n",
       "    }\n",
       "\n",
       "    .dataframe thead th {\n",
       "        text-align: right;\n",
       "    }\n",
       "</style>\n",
       "<table border=\"1\" class=\"dataframe\">\n",
       "  <thead>\n",
       "    <tr style=\"text-align: right;\">\n",
       "      <th></th>\n",
       "      <th>Global_active_power</th>\n",
       "      <th>Global_reactive_power</th>\n",
       "      <th>Voltage</th>\n",
       "      <th>Global_intensity</th>\n",
       "      <th>Total Reading</th>\n",
       "    </tr>\n",
       "  </thead>\n",
       "  <tbody>\n",
       "    <tr>\n",
       "      <th>0</th>\n",
       "      <td>0.496</td>\n",
       "      <td>0.054</td>\n",
       "      <td>243.72</td>\n",
       "      <td>2.6</td>\n",
       "      <td>0.0</td>\n",
       "    </tr>\n",
       "    <tr>\n",
       "      <th>1</th>\n",
       "      <td>0.312</td>\n",
       "      <td>0.080</td>\n",
       "      <td>244.56</td>\n",
       "      <td>1.2</td>\n",
       "      <td>0.0</td>\n",
       "    </tr>\n",
       "    <tr>\n",
       "      <th>2</th>\n",
       "      <td>0.584</td>\n",
       "      <td>0.198</td>\n",
       "      <td>239.97</td>\n",
       "      <td>2.6</td>\n",
       "      <td>1.0</td>\n",
       "    </tr>\n",
       "    <tr>\n",
       "      <th>3</th>\n",
       "      <td>0.826</td>\n",
       "      <td>0.000</td>\n",
       "      <td>245.04</td>\n",
       "      <td>3.4</td>\n",
       "      <td>1.0</td>\n",
       "    </tr>\n",
       "    <tr>\n",
       "      <th>4</th>\n",
       "      <td>0.318</td>\n",
       "      <td>0.076</td>\n",
       "      <td>237.04</td>\n",
       "      <td>1.4</td>\n",
       "      <td>0.0</td>\n",
       "    </tr>\n",
       "  </tbody>\n",
       "</table>\n",
       "</div>"
      ],
      "text/plain": [
       "   Global_active_power  Global_reactive_power  Voltage  Global_intensity  \\\n",
       "0                0.496                  0.054   243.72               2.6   \n",
       "1                0.312                  0.080   244.56               1.2   \n",
       "2                0.584                  0.198   239.97               2.6   \n",
       "3                0.826                  0.000   245.04               3.4   \n",
       "4                0.318                  0.076   237.04               1.4   \n",
       "\n",
       "   Total Reading  \n",
       "0            0.0  \n",
       "1            0.0  \n",
       "2            1.0  \n",
       "3            1.0  \n",
       "4            0.0  "
      ]
     },
     "execution_count": 314,
     "metadata": {},
     "output_type": "execute_result"
    }
   ],
   "source": [
    "### copy the data into another variable\n",
    "df1=df.drop(['day','month','year','hour','minute'],axis=1)\n",
    "df1.head()"
   ]
  },
  {
   "cell_type": "code",
   "execution_count": 265,
   "id": "b2f43f2c",
   "metadata": {},
   "outputs": [
    {
     "data": {
      "text/plain": [
       "Index(['Global_active_power', 'Global_reactive_power', 'Voltage',\n",
       "       'Global_intensity'],\n",
       "      dtype='object')"
      ]
     },
     "execution_count": 265,
     "metadata": {},
     "output_type": "execute_result"
    }
   ],
   "source": [
    "columns = df1.columns[:-1]\n",
    "columns"
   ]
  },
  {
   "cell_type": "markdown",
   "id": "482ab466",
   "metadata": {},
   "source": [
    "### Relationship between Total Reading and other columns"
   ]
  },
  {
   "cell_type": "code",
   "execution_count": 148,
   "id": "fe115d3c",
   "metadata": {},
   "outputs": [
    {
     "data": {
      "image/png": "[encoded data removed]",
      "text/plain": [
       "<Figure size 1440x1800 with 4 Axes>"
      ]
     },
     "metadata": {},
     "output_type": "display_data"
    }
   ],
   "source": [
    "# let's see how data is distributed for every column\n",
    "plt.figure(figsize=(20,25), facecolor='white')\n",
    "plotnumber = 1\n",
    "\n",
    "for column in columns:\n",
    "    if plotnumber<=4 :     # as there are 11 columns in the data\n",
    "        ax = plt.subplot(2,2,plotnumber)\n",
    "        plt.scatter(x=df1[column],y=df1['Total Reading'])\n",
    "        plt.xlabel(column,fontsize=20)\n",
    "    plotnumber+=1\n",
    "plt.show()"
   ]
  },
  {
   "cell_type": "markdown",
   "id": "c2f949e1",
   "metadata": {},
   "source": [
    "### Distribution of data"
   ]
  },
  {
   "cell_type": "code",
   "execution_count": 149,
   "id": "dd4f1dee",
   "metadata": {},
   "outputs": [
    {
     "data": {
      "image/png": "[encoded data removed]",
      "text/plain": [
       "<Figure size 1440x1800 with 4 Axes>"
      ]
     },
     "metadata": {},
     "output_type": "display_data"
    }
   ],
   "source": [
    "# let's see how data is distributed for every column\n",
    "plt.figure(figsize=(20,25), facecolor='white')\n",
    "plotnumber = 1\n",
    "\n",
    "for column in columns:\n",
    "    if plotnumber<=4 :     # as there are 4 columns in the data\n",
    "        ax = plt.subplot(2,2,plotnumber)\n",
    "        sns.distplot(df1[column])\n",
    "        plt.xlabel(column,fontsize=20)\n",
    "    plotnumber+=1\n",
    "plt.show()"
   ]
  },
  {
   "cell_type": "markdown",
   "id": "11089c42",
   "metadata": {},
   "source": [
    "### Outliers Checking"
   ]
  },
  {
   "cell_type": "code",
   "execution_count": 266,
   "id": "c8a4f474",
   "metadata": {},
   "outputs": [
    {
     "data": {
      "image/png": "[encoded data removed]",
      "text/plain": [
       "<Figure size 1440x1800 with 4 Axes>"
      ]
     },
     "metadata": {},
     "output_type": "display_data"
    }
   ],
   "source": [
    "# let's see how data is distributed for every column\n",
    "plt.figure(figsize=(20,25), facecolor='white')\n",
    "plotnumber = 1\n",
    "\n",
    "for column in columns:\n",
    "    if plotnumber<=4 :     # as there are 4 columns in the data\n",
    "        ax = plt.subplot(2,2,plotnumber)\n",
    "        sns.boxplot(data=df1[column])\n",
    "        plt.xlabel(column,fontsize=20)\n",
    "    plotnumber+=1\n",
    "plt.show()"
   ]
  },
  {
   "cell_type": "markdown",
   "id": "a2eb705e",
   "metadata": {},
   "source": [
    "### handling Oultiers"
   ]
  },
  {
   "cell_type": "code",
   "execution_count": 315,
   "id": "09bcc7b7",
   "metadata": {},
   "outputs": [],
   "source": [
    "def outlier_threshold(df,variable):\n",
    "    q1=df[variable].quantile(0.04)\n",
    "    q2=df[variable].quantile(0.90)\n",
    "    iqr=q2-q1\n",
    "    up_limit=q2\n",
    "    +(1.5*iqr)\n",
    "    lower_limit=q1-(1.5*iqr)\n",
    "    return lower_limit,up_limit"
   ]
  },
  {
   "cell_type": "code",
   "execution_count": 106,
   "id": "3072402b",
   "metadata": {},
   "outputs": [],
   "source": [
    "def replace_with_threshold(data,numeric_col):\n",
    "    for variable in numeric_col:\n",
    "        lower_limit,upper_limit=outlier_threshold(data,variable)\n",
    "        data.loc[data[variable]<lower_limit,variable]=lower_limit\n",
    "        data.loc[data[variable]>upper_limit,variable]=upper_limit  "
   ]
  },
  {
   "cell_type": "code",
   "execution_count": 316,
   "id": "c6ddcb06",
   "metadata": {},
   "outputs": [],
   "source": [
    "def replace_with_threshold(data,numeric_col):\n",
    "    for variable in numeric_col:\n",
    "        lower_limit,upper_limit=outlier_threshold(data,variable)\n",
    "        data.drop(index=data[data[variable]<lower_limit].index,inplace=True)\n",
    "        data.drop(index=data[data[variable]>upper_limit].index,inplace=True)"
   ]
  },
  {
   "cell_type": "code",
   "execution_count": 269,
   "id": "432665ea",
   "metadata": {},
   "outputs": [
    {
     "data": {
      "text/plain": [
       "Index(['Global_active_power', 'Global_reactive_power', 'Voltage',\n",
       "       'Global_intensity'],\n",
       "      dtype='object')"
      ]
     },
     "execution_count": 269,
     "metadata": {},
     "output_type": "execute_result"
    }
   ],
   "source": [
    "columns"
   ]
  },
  {
   "cell_type": "code",
   "execution_count": 270,
   "id": "6a83c084",
   "metadata": {},
   "outputs": [
    {
     "data": {
      "text/html": [
       "<div>\n",
       "<style scoped>\n",
       "    .dataframe tbody tr th:only-of-type {\n",
       "        vertical-align: middle;\n",
       "    }\n",
       "\n",
       "    .dataframe tbody tr th {\n",
       "        vertical-align: top;\n",
       "    }\n",
       "\n",
       "    .dataframe thead th {\n",
       "        text-align: right;\n",
       "    }\n",
       "</style>\n",
       "<table border=\"1\" class=\"dataframe\">\n",
       "  <thead>\n",
       "    <tr style=\"text-align: right;\">\n",
       "      <th></th>\n",
       "      <th>Global_active_power</th>\n",
       "      <th>Global_reactive_power</th>\n",
       "      <th>Voltage</th>\n",
       "      <th>Global_intensity</th>\n",
       "      <th>Total Reading</th>\n",
       "    </tr>\n",
       "  </thead>\n",
       "  <tbody>\n",
       "    <tr>\n",
       "      <th>0</th>\n",
       "      <td>0.496</td>\n",
       "      <td>0.054</td>\n",
       "      <td>243.72</td>\n",
       "      <td>2.6</td>\n",
       "      <td>0.0</td>\n",
       "    </tr>\n",
       "    <tr>\n",
       "      <th>1</th>\n",
       "      <td>0.312</td>\n",
       "      <td>0.080</td>\n",
       "      <td>244.56</td>\n",
       "      <td>1.2</td>\n",
       "      <td>0.0</td>\n",
       "    </tr>\n",
       "    <tr>\n",
       "      <th>2</th>\n",
       "      <td>0.584</td>\n",
       "      <td>0.198</td>\n",
       "      <td>239.97</td>\n",
       "      <td>2.6</td>\n",
       "      <td>1.0</td>\n",
       "    </tr>\n",
       "    <tr>\n",
       "      <th>3</th>\n",
       "      <td>0.826</td>\n",
       "      <td>0.000</td>\n",
       "      <td>245.04</td>\n",
       "      <td>3.4</td>\n",
       "      <td>1.0</td>\n",
       "    </tr>\n",
       "    <tr>\n",
       "      <th>4</th>\n",
       "      <td>0.318</td>\n",
       "      <td>0.076</td>\n",
       "      <td>237.04</td>\n",
       "      <td>1.4</td>\n",
       "      <td>0.0</td>\n",
       "    </tr>\n",
       "    <tr>\n",
       "      <th>...</th>\n",
       "      <td>...</td>\n",
       "      <td>...</td>\n",
       "      <td>...</td>\n",
       "      <td>...</td>\n",
       "      <td>...</td>\n",
       "    </tr>\n",
       "    <tr>\n",
       "      <th>49995</th>\n",
       "      <td>1.554</td>\n",
       "      <td>0.216</td>\n",
       "      <td>241.52</td>\n",
       "      <td>6.6</td>\n",
       "      <td>21.0</td>\n",
       "    </tr>\n",
       "    <tr>\n",
       "      <th>49996</th>\n",
       "      <td>0.960</td>\n",
       "      <td>0.000</td>\n",
       "      <td>241.32</td>\n",
       "      <td>4.0</td>\n",
       "      <td>1.0</td>\n",
       "    </tr>\n",
       "    <tr>\n",
       "      <th>49997</th>\n",
       "      <td>0.350</td>\n",
       "      <td>0.234</td>\n",
       "      <td>243.61</td>\n",
       "      <td>1.6</td>\n",
       "      <td>2.0</td>\n",
       "    </tr>\n",
       "    <tr>\n",
       "      <th>49998</th>\n",
       "      <td>0.996</td>\n",
       "      <td>0.118</td>\n",
       "      <td>241.40</td>\n",
       "      <td>4.2</td>\n",
       "      <td>12.0</td>\n",
       "    </tr>\n",
       "    <tr>\n",
       "      <th>49999</th>\n",
       "      <td>0.106</td>\n",
       "      <td>0.000</td>\n",
       "      <td>238.92</td>\n",
       "      <td>0.4</td>\n",
       "      <td>0.0</td>\n",
       "    </tr>\n",
       "  </tbody>\n",
       "</table>\n",
       "<p>49388 rows × 5 columns</p>\n",
       "</div>"
      ],
      "text/plain": [
       "       Global_active_power  Global_reactive_power  Voltage  Global_intensity  \\\n",
       "0                    0.496                  0.054   243.72               2.6   \n",
       "1                    0.312                  0.080   244.56               1.2   \n",
       "2                    0.584                  0.198   239.97               2.6   \n",
       "3                    0.826                  0.000   245.04               3.4   \n",
       "4                    0.318                  0.076   237.04               1.4   \n",
       "...                    ...                    ...      ...               ...   \n",
       "49995                1.554                  0.216   241.52               6.6   \n",
       "49996                0.960                  0.000   241.32               4.0   \n",
       "49997                0.350                  0.234   243.61               1.6   \n",
       "49998                0.996                  0.118   241.40               4.2   \n",
       "49999                0.106                  0.000   238.92               0.4   \n",
       "\n",
       "       Total Reading  \n",
       "0                0.0  \n",
       "1                0.0  \n",
       "2                1.0  \n",
       "3                1.0  \n",
       "4                0.0  \n",
       "...              ...  \n",
       "49995           21.0  \n",
       "49996            1.0  \n",
       "49997            2.0  \n",
       "49998           12.0  \n",
       "49999            0.0  \n",
       "\n",
       "[49388 rows x 5 columns]"
      ]
     },
     "execution_count": 270,
     "metadata": {},
     "output_type": "execute_result"
    }
   ],
   "source": [
    "df1"
   ]
  },
  {
   "cell_type": "code",
   "execution_count": 317,
   "id": "fcda23b9",
   "metadata": {},
   "outputs": [],
   "source": [
    "replace_with_threshold(df1,columns)"
   ]
  },
  {
   "cell_type": "code",
   "execution_count": 295,
   "id": "d378b388",
   "metadata": {},
   "outputs": [
    {
     "name": "stdout",
     "output_type": "stream",
     "text": [
      "<class 'pandas.core.frame.DataFrame'>\n",
      "Int64Index: 32582 entries, 0 to 49999\n",
      "Data columns (total 5 columns):\n",
      " #   Column                 Non-Null Count  Dtype  \n",
      "---  ------                 --------------  -----  \n",
      " 0   Global_active_power    32582 non-null  float64\n",
      " 1   Global_reactive_power  32582 non-null  float64\n",
      " 2   Voltage                32582 non-null  float64\n",
      " 3   Global_intensity       32582 non-null  float64\n",
      " 4   Total Reading          32582 non-null  float64\n",
      "dtypes: float64(5)\n",
      "memory usage: 1.5 MB\n"
     ]
    }
   ],
   "source": [
    "df1.info()"
   ]
  },
  {
   "cell_type": "code",
   "execution_count": 318,
   "id": "ae6c0111",
   "metadata": {},
   "outputs": [
    {
     "data": {
      "image/png": "[encoded data removed]",
      "text/plain": [
       "<Figure size 1440x1800 with 4 Axes>"
      ]
     },
     "metadata": {},
     "output_type": "display_data"
    }
   ],
   "source": [
    "# let's see how data is distributed for every column\n",
    "plt.figure(figsize=(20,25), facecolor='white')\n",
    "plotnumber = 1\n",
    "\n",
    "for column in columns:\n",
    "    if plotnumber<=4 :     # as there are 4 columns in the data\n",
    "        ax = plt.subplot(2,2,plotnumber)\n",
    "        sns.boxplot(data=df1[column])\n",
    "        plt.xlabel(column,fontsize=20)\n",
    "    plotnumber+=1\n",
    "plt.show()"
   ]
  },
  {
   "cell_type": "markdown",
   "id": "c83b33b4",
   "metadata": {},
   "source": [
    "### Model with dataset without disturbing outliers "
   ]
  },
  {
   "cell_type": "code",
   "execution_count": 319,
   "id": "e0dd9694",
   "metadata": {},
   "outputs": [],
   "source": [
    "X=df1.drop('Total Reading',axis=1)\n",
    "y=df1['Total Reading']"
   ]
  },
  {
   "cell_type": "code",
   "execution_count": 320,
   "id": "4f0753de",
   "metadata": {},
   "outputs": [
    {
     "data": {
      "text/plain": [
       "((32582, 4), (32582,))"
      ]
     },
     "execution_count": 320,
     "metadata": {},
     "output_type": "execute_result"
    }
   ],
   "source": [
    "X.shape,y.shape"
   ]
  },
  {
   "cell_type": "code",
   "execution_count": 321,
   "id": "45009143",
   "metadata": {},
   "outputs": [],
   "source": [
    "#split the train and test data\n",
    "from sklearn.model_selection import train_test_split"
   ]
  },
  {
   "cell_type": "code",
   "execution_count": 322,
   "id": "15e92acb",
   "metadata": {},
   "outputs": [],
   "source": [
    "X_train, X_test, y_train, y_test = train_test_split(\n",
    "X, y, test_size=0.25, random_state=42)"
   ]
  },
  {
   "cell_type": "code",
   "execution_count": 323,
   "id": "16f01a29",
   "metadata": {},
   "outputs": [
    {
     "data": {
      "text/html": [
       "<div>\n",
       "<style scoped>\n",
       "    .dataframe tbody tr th:only-of-type {\n",
       "        vertical-align: middle;\n",
       "    }\n",
       "\n",
       "    .dataframe tbody tr th {\n",
       "        vertical-align: top;\n",
       "    }\n",
       "\n",
       "    .dataframe thead th {\n",
       "        text-align: right;\n",
       "    }\n",
       "</style>\n",
       "<table border=\"1\" class=\"dataframe\">\n",
       "  <thead>\n",
       "    <tr style=\"text-align: right;\">\n",
       "      <th></th>\n",
       "      <th>Global_active_power</th>\n",
       "      <th>Global_reactive_power</th>\n",
       "      <th>Voltage</th>\n",
       "      <th>Global_intensity</th>\n",
       "    </tr>\n",
       "  </thead>\n",
       "  <tbody>\n",
       "    <tr>\n",
       "      <th>39072</th>\n",
       "      <td>1.288</td>\n",
       "      <td>0.048</td>\n",
       "      <td>241.31</td>\n",
       "      <td>5.2</td>\n",
       "    </tr>\n",
       "    <tr>\n",
       "      <th>8370</th>\n",
       "      <td>0.222</td>\n",
       "      <td>0.000</td>\n",
       "      <td>242.44</td>\n",
       "      <td>1.0</td>\n",
       "    </tr>\n",
       "  </tbody>\n",
       "</table>\n",
       "</div>"
      ],
      "text/plain": [
       "       Global_active_power  Global_reactive_power  Voltage  Global_intensity\n",
       "39072                1.288                  0.048   241.31               5.2\n",
       "8370                 0.222                  0.000   242.44               1.0"
      ]
     },
     "execution_count": 323,
     "metadata": {},
     "output_type": "execute_result"
    }
   ],
   "source": [
    "X_train.sample(2)"
   ]
  },
  {
   "cell_type": "code",
   "execution_count": 324,
   "id": "af4271bf",
   "metadata": {},
   "outputs": [
    {
     "data": {
      "text/plain": [
       "25801    0.0\n",
       "16417    0.0\n",
       "Name: Total Reading, dtype: float64"
      ]
     },
     "execution_count": 324,
     "metadata": {},
     "output_type": "execute_result"
    }
   ],
   "source": [
    "y_train.sample(2)"
   ]
  },
  {
   "cell_type": "code",
   "execution_count": 325,
   "id": "f08c2e4b",
   "metadata": {},
   "outputs": [
    {
     "data": {
      "text/html": [
       "<div>\n",
       "<style scoped>\n",
       "    .dataframe tbody tr th:only-of-type {\n",
       "        vertical-align: middle;\n",
       "    }\n",
       "\n",
       "    .dataframe tbody tr th {\n",
       "        vertical-align: top;\n",
       "    }\n",
       "\n",
       "    .dataframe thead th {\n",
       "        text-align: right;\n",
       "    }\n",
       "</style>\n",
       "<table border=\"1\" class=\"dataframe\">\n",
       "  <thead>\n",
       "    <tr style=\"text-align: right;\">\n",
       "      <th></th>\n",
       "      <th>Global_active_power</th>\n",
       "      <th>Global_reactive_power</th>\n",
       "      <th>Voltage</th>\n",
       "      <th>Global_intensity</th>\n",
       "    </tr>\n",
       "  </thead>\n",
       "  <tbody>\n",
       "    <tr>\n",
       "      <th>12891</th>\n",
       "      <td>0.216</td>\n",
       "      <td>0.000</td>\n",
       "      <td>242.43</td>\n",
       "      <td>0.8</td>\n",
       "    </tr>\n",
       "    <tr>\n",
       "      <th>21327</th>\n",
       "      <td>0.404</td>\n",
       "      <td>0.116</td>\n",
       "      <td>242.76</td>\n",
       "      <td>1.8</td>\n",
       "    </tr>\n",
       "  </tbody>\n",
       "</table>\n",
       "</div>"
      ],
      "text/plain": [
       "       Global_active_power  Global_reactive_power  Voltage  Global_intensity\n",
       "12891                0.216                  0.000   242.43               0.8\n",
       "21327                0.404                  0.116   242.76               1.8"
      ]
     },
     "execution_count": 325,
     "metadata": {},
     "output_type": "execute_result"
    }
   ],
   "source": [
    "X_test.sample(2)"
   ]
  },
  {
   "cell_type": "code",
   "execution_count": 326,
   "id": "025f96db",
   "metadata": {},
   "outputs": [
    {
     "data": {
      "text/plain": [
       "35314     0.0\n",
       "18753    18.0\n",
       "Name: Total Reading, dtype: float64"
      ]
     },
     "execution_count": 326,
     "metadata": {},
     "output_type": "execute_result"
    }
   ],
   "source": [
    "y_test.sample(2)"
   ]
  },
  {
   "cell_type": "code",
   "execution_count": 327,
   "id": "9af2d708",
   "metadata": {},
   "outputs": [
    {
     "data": {
      "text/plain": [
       "((24436, 4), (24436,), (8146, 4), (8146,))"
      ]
     },
     "execution_count": 327,
     "metadata": {},
     "output_type": "execute_result"
    }
   ],
   "source": [
    "X_train.shape , y_train.shape , X_test.shape , y_test.shape"
   ]
  },
  {
   "cell_type": "code",
   "execution_count": 328,
   "id": "0eedb1d7",
   "metadata": {},
   "outputs": [],
   "source": [
    "# standadize or feature scaling the datasets\n",
    "from sklearn.preprocessing import StandardScaler\n",
    "scaler=StandardScaler()"
   ]
  },
  {
   "cell_type": "code",
   "execution_count": 329,
   "id": "b2a4cb20",
   "metadata": {},
   "outputs": [
    {
     "data": {
      "text/plain": [
       "StandardScaler()"
      ]
     },
     "execution_count": 329,
     "metadata": {},
     "output_type": "execute_result"
    }
   ],
   "source": [
    "scaler"
   ]
  },
  {
   "cell_type": "code",
   "execution_count": 330,
   "id": "ea077f1e",
   "metadata": {},
   "outputs": [
    {
     "data": {
      "text/plain": [
       "array([[-0.73190387, -1.22950729,  1.57085886, -0.79325113],\n",
       "       [ 0.50083906, -1.22950729, -1.93859039,  0.51571903],\n",
       "       [-0.75104584,  0.32067091,  0.61130357, -0.69975326],\n",
       "       ...,\n",
       "       [-0.79315817,  0.89870346, -0.13416768, -0.69975326],\n",
       "       [-0.66682117,  0.18929988,  0.45074053, -0.69975326],\n",
       "       [-0.81995693, -1.22950729,  0.79098125, -0.79325113]])"
      ]
     },
     "execution_count": 330,
     "metadata": {},
     "output_type": "execute_result"
    }
   ],
   "source": [
    "X_train=scaler.fit_transform(X_train)\n",
    "X_train"
   ]
  },
  {
   "cell_type": "code",
   "execution_count": 331,
   "id": "512f9799",
   "metadata": {},
   "outputs": [
    {
     "data": {
      "text/plain": [
       "array([[ 1.54216229,  0.24184829, -0.13034475,  1.54419558],\n",
       "       [ 1.16315126, -1.22950729, -0.39794981,  1.17020411],\n",
       "       [-1.11091489, -1.22950729, -1.97299675, -1.1672426 ],\n",
       "       ...,\n",
       "       [-1.06880256, -1.22950729, -1.64804775, -1.07374474],\n",
       "       [-0.95777913,  0.76733243,  0.17548961, -0.886749  ],\n",
       "       [-0.70510511,  0.2943967 , -0.55851285, -0.69975326]])"
      ]
     },
     "execution_count": 331,
     "metadata": {},
     "output_type": "execute_result"
    }
   ],
   "source": [
    "X_test=scaler.transform(X_test)\n",
    "X_test"
   ]
  },
  {
   "cell_type": "markdown",
   "id": "cf2abc0a",
   "metadata": {},
   "source": [
    "### Model Training"
   ]
  },
  {
   "cell_type": "code",
   "execution_count": 332,
   "id": "cfeae394",
   "metadata": {},
   "outputs": [],
   "source": [
    "model=SVR()"
   ]
  },
  {
   "cell_type": "code",
   "execution_count": 333,
   "id": "3c598861",
   "metadata": {},
   "outputs": [
    {
     "data": {
      "text/plain": [
       "SVR()"
      ]
     },
     "execution_count": 333,
     "metadata": {},
     "output_type": "execute_result"
    }
   ],
   "source": [
    "model"
   ]
  },
  {
   "cell_type": "code",
   "execution_count": 334,
   "id": "5cb6953f",
   "metadata": {},
   "outputs": [
    {
     "data": {
      "text/plain": [
       "SVR()"
      ]
     },
     "execution_count": 334,
     "metadata": {},
     "output_type": "execute_result"
    }
   ],
   "source": [
    "#training the data\n",
    "model.fit(X_train, y_train)"
   ]
  },
  {
   "cell_type": "code",
   "execution_count": 335,
   "id": "50d914d7",
   "metadata": {},
   "outputs": [
    {
     "data": {
      "text/plain": [
       "0.7600543240315489"
      ]
     },
     "execution_count": 335,
     "metadata": {},
     "output_type": "execute_result"
    }
   ],
   "source": [
    "model.score(X_train, y_train)"
   ]
  },
  {
   "cell_type": "code",
   "execution_count": 336,
   "id": "74140511",
   "metadata": {},
   "outputs": [],
   "source": [
    "## prediction for the test data\n",
    "reg_pred=model.predict(X_test)"
   ]
  },
  {
   "cell_type": "code",
   "execution_count": 337,
   "id": "c7c4ee84",
   "metadata": {},
   "outputs": [
    {
     "data": {
      "text/plain": [
       "array([18.69098095, 17.59958203,  0.11533693, ...,  0.09893977,\n",
       "        0.97627857,  0.82706688])"
      ]
     },
     "execution_count": 337,
     "metadata": {},
     "output_type": "execute_result"
    }
   ],
   "source": [
    "reg_pred"
   ]
  },
  {
   "cell_type": "code",
   "execution_count": 338,
   "id": "ac8adf66",
   "metadata": {},
   "outputs": [
    {
     "name": "stdout",
     "output_type": "stream",
     "text": [
      "14.053347748905491\n",
      "1.5920435272753874\n",
      "3.748779501238435\n"
     ]
    }
   ],
   "source": [
    "## performance matrix\n",
    "print(mean_squared_error(y_test,reg_pred))\n",
    "print(mean_absolute_error(y_test,reg_pred))\n",
    "print(np.sqrt(mean_squared_error(y_test,reg_pred)))"
   ]
  },
  {
   "cell_type": "code",
   "execution_count": 339,
   "id": "bd155248",
   "metadata": {},
   "outputs": [
    {
     "name": "stdout",
     "output_type": "stream",
     "text": [
      "0.7641086524858707\n"
     ]
    }
   ],
   "source": [
    "score = r2_score(y_test,reg_pred)\n",
    "print(score)"
   ]
  },
  {
   "cell_type": "code",
   "execution_count": 340,
   "id": "faf148b6",
   "metadata": {},
   "outputs": [
    {
     "data": {
      "text/plain": [
       "0.7639927496004688"
      ]
     },
     "execution_count": 340,
     "metadata": {},
     "output_type": "execute_result"
    }
   ],
   "source": [
    "## adjsuted R2\n",
    "1-(1-score)*(len(y_test)-1)/(len(y_test)-X_test.shape[1]-1)"
   ]
  },
  {
   "cell_type": "code",
   "execution_count": null,
   "id": "39fce190",
   "metadata": {},
   "outputs": [],
   "source": []
  },
  {
   "cell_type": "code",
   "execution_count": null,
   "id": "29b965df",
   "metadata": {},
   "outputs": [],
   "source": []
  },
  {
   "cell_type": "code",
   "execution_count": null,
   "id": "b1a2cade",
   "metadata": {},
   "outputs": [],
   "source": []
  },
  {
   "cell_type": "code",
   "execution_count": null,
   "id": "40c6250a",
   "metadata": {},
   "outputs": [],
   "source": []
  },
  {
   "cell_type": "code",
   "execution_count": null,
   "id": "66a92e35",
   "metadata": {},
   "outputs": [],
   "source": []
  },
  {
   "cell_type": "code",
   "execution_count": null,
   "id": "65848592",
   "metadata": {},
   "outputs": [],
   "source": []
  },
  {
   "cell_type": "code",
   "execution_count": null,
   "id": "72c73b99",
   "metadata": {},
   "outputs": [],
   "source": []
  },
  {
   "cell_type": "code",
   "execution_count": null,
   "id": "413c230e",
   "metadata": {},
   "outputs": [],
   "source": []
  },
  {
   "cell_type": "code",
   "execution_count": null,
   "id": "e36c0c98",
   "metadata": {},
   "outputs": [],
   "source": []
  },
  {
   "cell_type": "markdown",
   "id": "d78207db",
   "metadata": {},
   "source": [
    "## GridsearchCV"
   ]
  },
  {
   "cell_type": "code",
   "execution_count": 125,
   "id": "c979e2fc",
   "metadata": {},
   "outputs": [
    {
     "name": "stdout",
     "output_type": "stream",
     "text": [
      "Fitting 2 folds for each of 25 candidates, totalling 50 fits\n",
      "[CV 1/2] END ...................C=0.1, gamma=1;, score=-0.101 total time=  36.6s\n",
      "[CV 2/2] END ...................C=0.1, gamma=1;, score=-0.104 total time=  36.0s\n",
      "[CV 1/2] END ..................C=0.1, gamma=0.1;, score=0.797 total time=  35.9s\n",
      "[CV 2/2] END ..................C=0.1, gamma=0.1;, score=0.785 total time=  36.5s\n",
      "[CV 1/2] END .................C=0.1, gamma=0.01;, score=0.732 total time=  38.2s\n",
      "[CV 2/2] END .................C=0.1, gamma=0.01;, score=0.719 total time=  38.4s\n",
      "[CV 1/2] END ................C=0.1, gamma=0.001;, score=0.193 total time=  38.5s\n",
      "[CV 2/2] END ................C=0.1, gamma=0.001;, score=0.194 total time=  38.0s\n",
      "[CV 1/2] END ..............C=0.1, gamma=0.0001;, score=-0.247 total time=  33.7s\n",
      "[CV 2/2] END ..............C=0.1, gamma=0.0001;, score=-0.252 total time=  33.3s\n",
      "[CV 1/2] END ......................C=1, gamma=1;, score=0.662 total time=  39.7s\n",
      "[CV 2/2] END ......................C=1, gamma=1;, score=0.673 total time=  40.2s\n",
      "[CV 1/2] END ....................C=1, gamma=0.1;, score=0.818 total time=  36.2s\n",
      "[CV 2/2] END ....................C=1, gamma=0.1;, score=0.801 total time=  36.7s\n",
      "[CV 1/2] END ...................C=1, gamma=0.01;, score=0.753 total time=  37.5s\n",
      "[CV 2/2] END ...................C=1, gamma=0.01;, score=0.741 total time=  38.2s\n",
      "[CV 1/2] END ..................C=1, gamma=0.001;, score=0.719 total time=32.2min\n",
      "[CV 2/2] END ..................C=1, gamma=0.001;, score=0.707 total time=  38.4s\n",
      "[CV 1/2] END .................C=1, gamma=0.0001;, score=0.200 total time=  37.9s\n",
      "[CV 2/2] END .................C=1, gamma=0.0001;, score=0.200 total time=  37.8s\n",
      "[CV 1/2] END .....................C=10, gamma=1;, score=0.819 total time= 2.0min\n",
      "[CV 2/2] END .....................C=10, gamma=1;, score=0.819 total time= 2.0min\n",
      "[CV 1/2] END ...................C=10, gamma=0.1;, score=0.830 total time=  44.3s\n",
      "[CV 2/2] END ...................C=10, gamma=0.1;, score=0.817 total time=  43.9s\n",
      "[CV 1/2] END ..................C=10, gamma=0.01;, score=0.776 total time=  37.8s\n",
      "[CV 2/2] END ..................C=10, gamma=0.01;, score=0.767 total time=  38.2s\n",
      "[CV 1/2] END .................C=10, gamma=0.001;, score=0.711 total time=  38.3s\n",
      "[CV 2/2] END .................C=10, gamma=0.001;, score=0.701 total time=  38.1s\n",
      "[CV 1/2] END ................C=10, gamma=0.0001;, score=0.718 total time=  38.6s\n",
      "[CV 2/2] END ................C=10, gamma=0.0001;, score=0.706 total time=  38.0s\n",
      "[CV 1/2] END ....................C=100, gamma=1;, score=0.804 total time= 2.7min\n",
      "[CV 2/2] END ....................C=100, gamma=1;, score=0.808 total time= 2.7min\n",
      "[CV 1/2] END ..................C=100, gamma=0.1;, score=0.832 total time= 2.5min\n",
      "[CV 2/2] END ..................C=100, gamma=0.1;, score=0.825 total time= 2.3min\n",
      "[CV 1/2] END .................C=100, gamma=0.01;, score=0.805 total time=  46.0s\n",
      "[CV 2/2] END .................C=100, gamma=0.01;, score=0.792 total time=  45.9s\n",
      "[CV 1/2] END ................C=100, gamma=0.001;, score=0.751 total time=  39.0s\n",
      "[CV 2/2] END ................C=100, gamma=0.001;, score=0.741 total time=  39.0s\n",
      "[CV 1/2] END ...............C=100, gamma=0.0001;, score=0.701 total time=  38.3s\n",
      "[CV 2/2] END ...............C=100, gamma=0.0001;, score=0.691 total time=  38.4s\n",
      "[CV 1/2] END ...................C=1000, gamma=1;, score=0.803 total time= 2.8min\n",
      "[CV 2/2] END ...................C=1000, gamma=1;, score=0.807 total time= 2.7min\n",
      "[CV 1/2] END .................C=1000, gamma=0.1;, score=0.819 total time=28.7min\n",
      "[CV 2/2] END .................C=1000, gamma=0.1;, score=0.819 total time=29.7min\n",
      "[CV 1/2] END ................C=1000, gamma=0.01;, score=0.818 total time= 2.1min\n",
      "[CV 2/2] END ................C=1000, gamma=0.01;, score=0.795 total time= 2.1min\n",
      "[CV 1/2] END ...............C=1000, gamma=0.001;, score=0.763 total time=  46.5s\n",
      "[CV 2/2] END ...............C=1000, gamma=0.001;, score=0.755 total time=  47.4s\n",
      "[CV 1/2] END ..............C=1000, gamma=0.0001;, score=0.712 total time=  39.4s\n",
      "[CV 2/2] END ..............C=1000, gamma=0.0001;, score=0.702 total time=  39.6s\n"
     ]
    },
    {
     "data": {
      "text/plain": [
       "GridSearchCV(cv=2, estimator=SVR(),\n",
       "             param_grid={'C': [0.1, 1, 10, 100, 1000],\n",
       "                         'gamma': [1, 0.1, 0.01, 0.001, 0.0001]},\n",
       "             verbose=3)"
      ]
     },
     "execution_count": 125,
     "metadata": {},
     "output_type": "execute_result"
    }
   ],
   "source": [
    "from sklearn.model_selection import GridSearchCV\n",
    "\n",
    "# defining parameter range\n",
    "param_grid = {'C': [0.1, 1, 10, 100, 1000],'gamma': [1, 0.1, 0.01, 0.001, 0.0001]}\n",
    "\n",
    "grid = GridSearchCV(SVR(), param_grid, refit = True, verbose = 3,cv=2)\n",
    "\n",
    "# fitting the model for grid search\n",
    "grid.fit(X_train, y_train)\n"
   ]
  },
  {
   "cell_type": "code",
   "execution_count": 128,
   "id": "4b7e0bb0",
   "metadata": {},
   "outputs": [
    {
     "data": {
      "text/plain": [
       "SVR(C=100, gamma=0.1)"
      ]
     },
     "execution_count": 128,
     "metadata": {},
     "output_type": "execute_result"
    }
   ],
   "source": [
    "grid.best_estimator_"
   ]
  },
  {
   "cell_type": "code",
   "execution_count": 341,
   "id": "596d4137",
   "metadata": {},
   "outputs": [],
   "source": [
    "model1=SVR(C=100, gamma=0.1)"
   ]
  },
  {
   "cell_type": "code",
   "execution_count": 342,
   "id": "c53e94c9",
   "metadata": {},
   "outputs": [
    {
     "data": {
      "text/plain": [
       "SVR(C=100, gamma=0.1)"
      ]
     },
     "execution_count": 342,
     "metadata": {},
     "output_type": "execute_result"
    }
   ],
   "source": [
    "model1.fit(X_train, y_train)"
   ]
  },
  {
   "cell_type": "code",
   "execution_count": 343,
   "id": "8f717642",
   "metadata": {},
   "outputs": [
    {
     "data": {
      "text/plain": [
       "0.7619896777140075"
      ]
     },
     "execution_count": 343,
     "metadata": {},
     "output_type": "execute_result"
    }
   ],
   "source": [
    "model1.score(X_train,y_train)"
   ]
  },
  {
   "cell_type": "code",
   "execution_count": 390,
   "id": "88cedb1b",
   "metadata": {},
   "outputs": [],
   "source": [
    "## prediction for the test data\n",
    "reg_pred=model1.predict(X_test)"
   ]
  },
  {
   "cell_type": "code",
   "execution_count": 391,
   "id": "402298ce",
   "metadata": {},
   "outputs": [
    {
     "data": {
      "text/plain": [
       "array([18.62141186, 17.39098882,  0.06316578, ...,  0.08858373,\n",
       "        0.90012238,  0.83102716])"
      ]
     },
     "execution_count": 391,
     "metadata": {},
     "output_type": "execute_result"
    }
   ],
   "source": [
    "reg_pred"
   ]
  },
  {
   "cell_type": "code",
   "execution_count": 392,
   "id": "dcb37cc7",
   "metadata": {},
   "outputs": [
    {
     "name": "stdout",
     "output_type": "stream",
     "text": [
      "13.946637682743862\n",
      "1.596431752957229\n",
      "3.7345197392360725\n"
     ]
    }
   ],
   "source": [
    "## performance matrix\n",
    "print(mean_squared_error(y_test,reg_pred))\n",
    "print(mean_absolute_error(y_test,reg_pred))\n",
    "print(np.sqrt(mean_squared_error(y_test,reg_pred)))"
   ]
  },
  {
   "cell_type": "code",
   "execution_count": 393,
   "id": "373e568f",
   "metadata": {},
   "outputs": [
    {
     "name": "stdout",
     "output_type": "stream",
     "text": [
      "0.7658998257884846\n"
     ]
    }
   ],
   "source": [
    "score = r2_score(y_test,reg_pred)\n",
    "print(score)"
   ]
  },
  {
   "cell_type": "code",
   "execution_count": 394,
   "id": "1f9e3c58",
   "metadata": {},
   "outputs": [
    {
     "data": {
      "text/plain": [
       "0.7657848029784065"
      ]
     },
     "execution_count": 394,
     "metadata": {},
     "output_type": "execute_result"
    }
   ],
   "source": [
    "## adjsuted R2\n",
    "1-(1-score)*(len(y_test)-1)/(len(y_test)-X_test.shape[1]-1)"
   ]
  },
  {
   "cell_type": "markdown",
   "id": "4875ffc2",
   "metadata": {},
   "source": [
    "## Linear Regression"
   ]
  },
  {
   "cell_type": "code",
   "execution_count": 344,
   "id": "b37cc81b",
   "metadata": {},
   "outputs": [],
   "source": [
    "from sklearn.linear_model import LinearRegression"
   ]
  },
  {
   "cell_type": "code",
   "execution_count": 345,
   "id": "0da789bc",
   "metadata": {},
   "outputs": [],
   "source": [
    "model2=LinearRegression()"
   ]
  },
  {
   "cell_type": "code",
   "execution_count": 346,
   "id": "6c4a2b03",
   "metadata": {},
   "outputs": [
    {
     "data": {
      "text/plain": [
       "LinearRegression()"
      ]
     },
     "execution_count": 346,
     "metadata": {},
     "output_type": "execute_result"
    }
   ],
   "source": [
    "model2"
   ]
  },
  {
   "cell_type": "code",
   "execution_count": 347,
   "id": "102f835b",
   "metadata": {},
   "outputs": [
    {
     "data": {
      "text/plain": [
       "LinearRegression()"
      ]
     },
     "execution_count": 347,
     "metadata": {},
     "output_type": "execute_result"
    }
   ],
   "source": [
    "model2.fit(X_train, y_train)"
   ]
  },
  {
   "cell_type": "code",
   "execution_count": 348,
   "id": "c7f39f55",
   "metadata": {},
   "outputs": [
    {
     "data": {
      "text/plain": [
       "0.7240162474815052"
      ]
     },
     "execution_count": 348,
     "metadata": {},
     "output_type": "execute_result"
    }
   ],
   "source": [
    "model2.score(X_train,y_train)"
   ]
  },
  {
   "cell_type": "code",
   "execution_count": 349,
   "id": "0b4c0dbb",
   "metadata": {},
   "outputs": [],
   "source": [
    "## prediction for the test data\n",
    "reg_pred=model2.predict(X_test)"
   ]
  },
  {
   "cell_type": "code",
   "execution_count": 350,
   "id": "f21ca424",
   "metadata": {},
   "outputs": [
    {
     "data": {
      "text/plain": [
       "array([15.38436519, 13.22034524, -0.55118951, ..., -0.78823951,\n",
       "       -1.61829233,  0.86850532])"
      ]
     },
     "execution_count": 350,
     "metadata": {},
     "output_type": "execute_result"
    }
   ],
   "source": [
    "reg_pred"
   ]
  },
  {
   "cell_type": "code",
   "execution_count": 351,
   "id": "e8b4158b",
   "metadata": {},
   "outputs": [
    {
     "data": {
      "text/plain": [
       "30480    18.0\n",
       "47587    18.0\n",
       "17025     0.0\n",
       "22722     1.0\n",
       "19345    19.0\n",
       "         ... \n",
       "20196     0.0\n",
       "22077     0.0\n",
       "35189     0.0\n",
       "6259      1.0\n",
       "31        0.0\n",
       "Name: Total Reading, Length: 8146, dtype: float64"
      ]
     },
     "execution_count": 351,
     "metadata": {},
     "output_type": "execute_result"
    }
   ],
   "source": [
    "y_test"
   ]
  },
  {
   "cell_type": "code",
   "execution_count": 352,
   "id": "ac5b92aa",
   "metadata": {},
   "outputs": [
    {
     "name": "stdout",
     "output_type": "stream",
     "text": [
      "16.31950829194539\n",
      "2.6377401180605275\n",
      "4.039741116946158\n"
     ]
    }
   ],
   "source": [
    "## performance matrix\n",
    "print(mean_squared_error(y_test,reg_pred))\n",
    "print(mean_absolute_error(y_test,reg_pred))\n",
    "print(np.sqrt(mean_squared_error(y_test,reg_pred)))"
   ]
  },
  {
   "cell_type": "code",
   "execution_count": 353,
   "id": "df572da4",
   "metadata": {},
   "outputs": [
    {
     "name": "stdout",
     "output_type": "stream",
     "text": [
      "0.7260701954767452\n"
     ]
    }
   ],
   "source": [
    "score = r2_score(y_test,reg_pred)\n",
    "print(score)"
   ]
  },
  {
   "cell_type": "code",
   "execution_count": 354,
   "id": "4efeab03",
   "metadata": {},
   "outputs": [
    {
     "data": {
      "text/plain": [
       "0.7259356027709236"
      ]
     },
     "execution_count": 354,
     "metadata": {},
     "output_type": "execute_result"
    }
   ],
   "source": [
    "## adjsuted R2\n",
    "1-(1-score)*(len(y_test)-1)/(len(y_test)-X_test.shape[1]-1)"
   ]
  },
  {
   "cell_type": "code",
   "execution_count": null,
   "id": "58694aae",
   "metadata": {},
   "outputs": [],
   "source": []
  },
  {
   "cell_type": "markdown",
   "id": "59a3314b",
   "metadata": {},
   "source": [
    "## Ridge regression"
   ]
  },
  {
   "cell_type": "code",
   "execution_count": 355,
   "id": "0209392e",
   "metadata": {},
   "outputs": [],
   "source": [
    " from sklearn.linear_model import Ridge"
   ]
  },
  {
   "cell_type": "code",
   "execution_count": 356,
   "id": "cc470986",
   "metadata": {},
   "outputs": [],
   "source": [
    "model3=Ridge()"
   ]
  },
  {
   "cell_type": "code",
   "execution_count": 357,
   "id": "0b240b3e",
   "metadata": {},
   "outputs": [
    {
     "data": {
      "text/plain": [
       "Ridge()"
      ]
     },
     "execution_count": 357,
     "metadata": {},
     "output_type": "execute_result"
    }
   ],
   "source": [
    "model3"
   ]
  },
  {
   "cell_type": "code",
   "execution_count": 358,
   "id": "039fb520",
   "metadata": {},
   "outputs": [
    {
     "data": {
      "text/plain": [
       "Ridge()"
      ]
     },
     "execution_count": 358,
     "metadata": {},
     "output_type": "execute_result"
    }
   ],
   "source": [
    "model3.fit(X_train,y_train)"
   ]
  },
  {
   "cell_type": "code",
   "execution_count": 359,
   "id": "569738e9",
   "metadata": {},
   "outputs": [
    {
     "data": {
      "text/plain": [
       "0.724012563428253"
      ]
     },
     "execution_count": 359,
     "metadata": {},
     "output_type": "execute_result"
    }
   ],
   "source": [
    "model3.score(X_train,y_train)"
   ]
  },
  {
   "cell_type": "code",
   "execution_count": 370,
   "id": "980a5c21",
   "metadata": {},
   "outputs": [],
   "source": [
    "## prediction for the test data\n",
    "reg_pred=model3.predict(X_test)"
   ]
  },
  {
   "cell_type": "code",
   "execution_count": 371,
   "id": "682f0da4",
   "metadata": {},
   "outputs": [
    {
     "data": {
      "text/plain": [
       "array([15.38453268, 13.23018177, -0.56582493, ..., -0.78866056,\n",
       "       -1.60596186,  0.86498612])"
      ]
     },
     "execution_count": 371,
     "metadata": {},
     "output_type": "execute_result"
    }
   ],
   "source": [
    "reg_pred"
   ]
  },
  {
   "cell_type": "code",
   "execution_count": 372,
   "id": "17f82777",
   "metadata": {},
   "outputs": [
    {
     "name": "stdout",
     "output_type": "stream",
     "text": [
      "16.320789892993556\n",
      "2.6373795915093474\n",
      "4.039899737987758\n"
     ]
    }
   ],
   "source": [
    "## performance matrix\n",
    "print(mean_squared_error(y_test,reg_pred))\n",
    "print(mean_absolute_error(y_test,reg_pred))\n",
    "print(np.sqrt(mean_squared_error(y_test,reg_pred)))"
   ]
  },
  {
   "cell_type": "code",
   "execution_count": 373,
   "id": "116e826b",
   "metadata": {},
   "outputs": [
    {
     "name": "stdout",
     "output_type": "stream",
     "text": [
      "0.7260486832645926\n"
     ]
    }
   ],
   "source": [
    "score = r2_score(y_test,reg_pred)\n",
    "print(score)"
   ]
  },
  {
   "cell_type": "code",
   "execution_count": 374,
   "id": "1511a5bb",
   "metadata": {},
   "outputs": [
    {
     "data": {
      "text/plain": [
       "0.725914079988958"
      ]
     },
     "execution_count": 374,
     "metadata": {},
     "output_type": "execute_result"
    }
   ],
   "source": [
    "## adjsuted R2\n",
    "1-(1-score)*(len(y_test)-1)/(len(y_test)-X_test.shape[1]-1)"
   ]
  },
  {
   "cell_type": "code",
   "execution_count": null,
   "id": "e4ae92fd",
   "metadata": {},
   "outputs": [],
   "source": []
  },
  {
   "cell_type": "markdown",
   "id": "3faaaf86",
   "metadata": {},
   "source": [
    "## Lasso Regression"
   ]
  },
  {
   "cell_type": "code",
   "execution_count": 366,
   "id": "f184d71a",
   "metadata": {},
   "outputs": [],
   "source": [
    "from sklearn.linear_model import Lasso"
   ]
  },
  {
   "cell_type": "code",
   "execution_count": 367,
   "id": "f46b93c9",
   "metadata": {},
   "outputs": [],
   "source": [
    "model4=Lasso()"
   ]
  },
  {
   "cell_type": "code",
   "execution_count": 368,
   "id": "01c6dbf4",
   "metadata": {},
   "outputs": [
    {
     "data": {
      "text/plain": [
       "Lasso()"
      ]
     },
     "execution_count": 368,
     "metadata": {},
     "output_type": "execute_result"
    }
   ],
   "source": [
    "model4.fit(X_train,y_train)"
   ]
  },
  {
   "cell_type": "code",
   "execution_count": 369,
   "id": "ff19cbb3",
   "metadata": {},
   "outputs": [
    {
     "data": {
      "text/plain": [
       "0.7007501970861071"
      ]
     },
     "execution_count": 369,
     "metadata": {},
     "output_type": "execute_result"
    }
   ],
   "source": [
    "model4.score(X_train,y_train)"
   ]
  },
  {
   "cell_type": "code",
   "execution_count": 375,
   "id": "5a9db003",
   "metadata": {},
   "outputs": [],
   "source": [
    "## prediction for the test data\n",
    "reg_pred=model4.predict(X_test)"
   ]
  },
  {
   "cell_type": "code",
   "execution_count": 376,
   "id": "0b30616a",
   "metadata": {},
   "outputs": [
    {
     "data": {
      "text/plain": [
       "array([13.95978606, 11.84624156, -0.83502547, ..., -0.60018719,\n",
       "        0.0189319 ,  1.42796157])"
      ]
     },
     "execution_count": 376,
     "metadata": {},
     "output_type": "execute_result"
    }
   ],
   "source": [
    "reg_pred"
   ]
  },
  {
   "cell_type": "code",
   "execution_count": 377,
   "id": "399d90c8",
   "metadata": {},
   "outputs": [
    {
     "name": "stdout",
     "output_type": "stream",
     "text": [
      "17.68015320634126\n",
      "2.9370631632857407\n",
      "4.2047774264925435\n"
     ]
    }
   ],
   "source": [
    "## performance matrix\n",
    "print(mean_squared_error(y_test,reg_pred))\n",
    "print(mean_absolute_error(y_test,reg_pred))\n",
    "print(np.sqrt(mean_squared_error(y_test,reg_pred)))"
   ]
  },
  {
   "cell_type": "code",
   "execution_count": 378,
   "id": "51899f84",
   "metadata": {},
   "outputs": [
    {
     "name": "stdout",
     "output_type": "stream",
     "text": [
      "0.7032311988134706\n"
     ]
    }
   ],
   "source": [
    "score = r2_score(y_test,reg_pred)\n",
    "print(score)"
   ]
  },
  {
   "cell_type": "code",
   "execution_count": 379,
   "id": "2c50e009",
   "metadata": {},
   "outputs": [
    {
     "data": {
      "text/plain": [
       "0.7030853843920548"
      ]
     },
     "execution_count": 379,
     "metadata": {},
     "output_type": "execute_result"
    }
   ],
   "source": [
    "## adjsuted R2\n",
    "1-(1-score)*(len(y_test)-1)/(len(y_test)-X_test.shape[1]-1)"
   ]
  },
  {
   "cell_type": "code",
   "execution_count": null,
   "id": "598f478d",
   "metadata": {},
   "outputs": [],
   "source": []
  },
  {
   "cell_type": "markdown",
   "id": "724631a1",
   "metadata": {},
   "source": [
    "## Elastic Regression"
   ]
  },
  {
   "cell_type": "code",
   "execution_count": 380,
   "id": "41cbcab4",
   "metadata": {},
   "outputs": [],
   "source": [
    "from sklearn.linear_model import ElasticNet"
   ]
  },
  {
   "cell_type": "code",
   "execution_count": 381,
   "id": "17f38a45",
   "metadata": {},
   "outputs": [],
   "source": [
    "model5=ElasticNet()"
   ]
  },
  {
   "cell_type": "code",
   "execution_count": 382,
   "id": "42c5a591",
   "metadata": {},
   "outputs": [
    {
     "data": {
      "text/plain": [
       "ElasticNet()"
      ]
     },
     "execution_count": 382,
     "metadata": {},
     "output_type": "execute_result"
    }
   ],
   "source": [
    "model5"
   ]
  },
  {
   "cell_type": "code",
   "execution_count": 383,
   "id": "65e53112",
   "metadata": {},
   "outputs": [
    {
     "data": {
      "text/plain": [
       "ElasticNet()"
      ]
     },
     "execution_count": 383,
     "metadata": {},
     "output_type": "execute_result"
    }
   ],
   "source": [
    "model5.fit(X_train,y_train)"
   ]
  },
  {
   "cell_type": "code",
   "execution_count": 384,
   "id": "6a3c5b32",
   "metadata": {},
   "outputs": [
    {
     "data": {
      "text/plain": [
       "0.6642736293336949"
      ]
     },
     "execution_count": 384,
     "metadata": {},
     "output_type": "execute_result"
    }
   ],
   "source": [
    "model5.score(X_train,y_train)"
   ]
  },
  {
   "cell_type": "code",
   "execution_count": 385,
   "id": "4b16491a",
   "metadata": {},
   "outputs": [],
   "source": [
    "## prediction for the test data\n",
    "reg_pred=model5.predict(X_test)"
   ]
  },
  {
   "cell_type": "code",
   "execution_count": 386,
   "id": "0b11bbcd",
   "metadata": {},
   "outputs": [
    {
     "data": {
      "text/plain": [
       "array([12.83823073, 11.01343157, -0.15736899, ...,  0.16872291,\n",
       "        0.88714347,  1.95567251])"
      ]
     },
     "execution_count": 386,
     "metadata": {},
     "output_type": "execute_result"
    }
   ],
   "source": [
    "reg_pred"
   ]
  },
  {
   "cell_type": "code",
   "execution_count": 387,
   "id": "63b9e2eb",
   "metadata": {},
   "outputs": [
    {
     "name": "stdout",
     "output_type": "stream",
     "text": [
      "19.852147448353275\n",
      "3.2925889664193737\n",
      "4.455574872937641\n"
     ]
    }
   ],
   "source": [
    "## performance matrix\n",
    "print(mean_squared_error(y_test,reg_pred))\n",
    "print(mean_absolute_error(y_test,reg_pred))\n",
    "print(np.sqrt(mean_squared_error(y_test,reg_pred)))"
   ]
  },
  {
   "cell_type": "code",
   "execution_count": 388,
   "id": "6252681e",
   "metadata": {},
   "outputs": [
    {
     "name": "stdout",
     "output_type": "stream",
     "text": [
      "0.6667733627380026\n"
     ]
    }
   ],
   "source": [
    "score = r2_score(y_test,reg_pred)\n",
    "print(score)"
   ]
  },
  {
   "cell_type": "code",
   "execution_count": 389,
   "id": "ed5d473f",
   "metadata": {},
   "outputs": [
    {
     "data": {
      "text/plain": [
       "0.6666096351186626"
      ]
     },
     "execution_count": 389,
     "metadata": {},
     "output_type": "execute_result"
    }
   ],
   "source": [
    "## adjsuted R2\n",
    "1-(1-score)*(len(y_test)-1)/(len(y_test)-X_test.shape[1]-1)"
   ]
  },
  {
   "cell_type": "code",
   "execution_count": null,
   "id": "ea527361",
   "metadata": {},
   "outputs": [],
   "source": []
  },
  {
   "cell_type": "markdown",
   "id": "4cbd65dd",
   "metadata": {},
   "source": [
    "### Final Conclusion"
   ]
  },
  {
   "cell_type": "code",
   "execution_count": 397,
   "id": "a0821700",
   "metadata": {},
   "outputs": [],
   "source": [
    "conclusion=pd.DataFrame({\"model\":[\"SVR\",'LinearRegression','Ridge','Lasso','Elastic'],\"R_square\":[0.7658998257884846,0.7260701954767452,0.7260486832645926,0.7032311988134706,0.6667733627380026],\"Adjusted R_square\":[0.7657848029784065,0.7259356027709236,0.725914079988958,0.7030853843920548,0.6666096351186626]})"
   ]
  },
  {
   "cell_type": "code",
   "execution_count": 398,
   "id": "b6386115",
   "metadata": {},
   "outputs": [
    {
     "data": {
      "text/html": [
       "<div>\n",
       "<style scoped>\n",
       "    .dataframe tbody tr th:only-of-type {\n",
       "        vertical-align: middle;\n",
       "    }\n",
       "\n",
       "    .dataframe tbody tr th {\n",
       "        vertical-align: top;\n",
       "    }\n",
       "\n",
       "    .dataframe thead th {\n",
       "        text-align: right;\n",
       "    }\n",
       "</style>\n",
       "<table border=\"1\" class=\"dataframe\">\n",
       "  <thead>\n",
       "    <tr style=\"text-align: right;\">\n",
       "      <th></th>\n",
       "      <th>model</th>\n",
       "      <th>R_square</th>\n",
       "      <th>Adjusted R_square</th>\n",
       "    </tr>\n",
       "  </thead>\n",
       "  <tbody>\n",
       "    <tr>\n",
       "      <th>0</th>\n",
       "      <td>SVR</td>\n",
       "      <td>0.765900</td>\n",
       "      <td>0.765785</td>\n",
       "    </tr>\n",
       "    <tr>\n",
       "      <th>1</th>\n",
       "      <td>LinearRegression</td>\n",
       "      <td>0.726070</td>\n",
       "      <td>0.725936</td>\n",
       "    </tr>\n",
       "    <tr>\n",
       "      <th>2</th>\n",
       "      <td>Ridge</td>\n",
       "      <td>0.726049</td>\n",
       "      <td>0.725914</td>\n",
       "    </tr>\n",
       "    <tr>\n",
       "      <th>3</th>\n",
       "      <td>Lasso</td>\n",
       "      <td>0.703231</td>\n",
       "      <td>0.703085</td>\n",
       "    </tr>\n",
       "    <tr>\n",
       "      <th>4</th>\n",
       "      <td>Elastic</td>\n",
       "      <td>0.666773</td>\n",
       "      <td>0.666610</td>\n",
       "    </tr>\n",
       "  </tbody>\n",
       "</table>\n",
       "</div>"
      ],
      "text/plain": [
       "              model  R_square  Adjusted R_square\n",
       "0               SVR  0.765900           0.765785\n",
       "1  LinearRegression  0.726070           0.725936\n",
       "2             Ridge  0.726049           0.725914\n",
       "3             Lasso  0.703231           0.703085\n",
       "4           Elastic  0.666773           0.666610"
      ]
     },
     "execution_count": 398,
     "metadata": {},
     "output_type": "execute_result"
    }
   ],
   "source": [
    "conclusion"
   ]
  },
  {
   "cell_type": "markdown",
   "id": "62d26e10",
   "metadata": {},
   "source": [
    "From the above results we can conclude that for this dataset the best method we can use is SVR since it is giving the highest accuracy"
   ]
  },
  {
   "cell_type": "code",
   "execution_count": null,
   "id": "ab027918",
   "metadata": {},
   "outputs": [],
   "source": []
  }
 ],
 "metadata": {
  "kernelspec": {
   "display_name": "Python 3 (ipykernel)",
   "language": "python",
   "name": "python3"
  },
  "language_info": {
   "codemirror_mode": {
    "name": "ipython",
    "version": 3
   },
   "file_extension": ".py",
   "mimetype": "text/x-python",
   "name": "python",
   "nbconvert_exporter": "python",
   "pygments_lexer": "ipython3",
   "version": "3.9.7"
  }
 },
 "nbformat": 4,
 "nbformat_minor": 5
}
